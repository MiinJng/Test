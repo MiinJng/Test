{
 "cells": [
  {
   "cell_type": "code",
   "execution_count": 10,
   "id": "d7d571c2",
   "metadata": {},
   "outputs": [],
   "source": [
    "import numpy as np\n",
    "import pandas as pd\n",
    "from numpy import mean\n",
    "from numpy import std\n",
    "from numpy import dstack\n",
    "from pandas import read_csv\n",
    "from keras.models import Sequential\n",
    "from keras.layers import Dense\n",
    "from keras.layers import Flatten\n",
    "from keras.layers import Dropout\n",
    "from keras.layers import Bidirectional\n",
    "from keras.layers import GRU\n",
    "from tensorflow.keras.layers import Conv1D\n",
    "from tensorflow.keras.layers import MaxPooling1D\n",
    "from tensorflow.keras.utils import to_categorical\n",
    "from matplotlib import pyplot\n",
    "import matplotlib.pyplot as plt\n",
    "from tensorflow.keras.utils import plot_model\n",
    "import keras\n",
    "from sklearn.metrics import confusion_matrix, classification_report\n",
    "import seaborn as sns\n",
    "# set seed to reproduce similar results\n",
    "np.random.seed(0)"
   ]
  },
  {
   "cell_type": "code",
   "execution_count": 11,
   "id": "7d3b82f7",
   "metadata": {},
   "outputs": [],
   "source": [
    "# load a single file as a numpy array\n",
    "def load_file(filepath):\n",
    "    dataframe = pd.read_csv(filepath, header=None, delim_whitespace=True)\n",
    "    return dataframe.values\n",
    " \n",
    "# load a list of files and return as a 3d numpy array\n",
    "def load_group(filenames, prefix=''):\n",
    "    loaded = list()\n",
    "    for name in filenames:\n",
    "        data = load_file(prefix + name)\n",
    "        loaded.append(data)\n",
    "    # stack group so that features are the 3rd dimension\n",
    "    loaded = np.dstack(loaded)\n",
    "    return loaded\n",
    " \n",
    "# load a dataset group, such as train or test\n",
    "def load_dataset_group(group, prefix=''):\n",
    "    filepath = prefix + group + '/Inertial Signals/'\n",
    "    # load all 9 files as a single array\n",
    "    filenames = list()\n",
    "    # total acceleration\n",
    "    filenames += ['total_acc_x_'+group+'.txt', 'total_acc_y_'+group+'.txt', 'total_acc_z_'+group+'.txt']\n",
    "    # body acceleration\n",
    "    filenames += ['body_acc_x_'+group+'.txt', 'body_acc_y_'+group+'.txt', 'body_acc_z_'+group+'.txt']\n",
    "    # body gyroscope\n",
    "    filenames += ['body_gyro_x_'+group+'.txt', 'body_gyro_y_'+group+'.txt', 'body_gyro_z_'+group+'.txt']\n",
    "    # load input data\n",
    "    X = load_group(filenames, filepath)\n",
    "    # load class output\n",
    "    y = load_file(prefix + group + '/y_'+group+'.txt')\n",
    "    return X, y\n",
    "\n",
    "# load the dataset, returns train and test X and y elements\n",
    "def load_dataset(prefix=''):\n",
    "    # load all train\n",
    "    trainX, trainy = load_dataset_group('train', prefix + '/Users/minjeong/Downloads/UCI HAR Dataset-2/')\n",
    "    # load all test\n",
    "    testX, testy = load_dataset_group('test', prefix + '/Users/minjeong/Downloads/UCI HAR Dataset-2/')\n",
    "    # zero-offset class values\n",
    "    trainy = trainy - 1\n",
    "    testy = testy - 1\n",
    "    # one hot encode y\n",
    "    trainy = to_categorical(trainy)\n",
    "    testy = to_categorical(testy)\n",
    "    print(\"trainX shape: \",trainX.shape)\n",
    "    print(\"trainy shape: \", trainy.shape)\n",
    "    print(\"testX shape: \", testX.shape)\n",
    "    print(\"testy shape: \", testy.shape)\n",
    "    return trainX, trainy, testX, testy"
   ]
  },
  {
   "cell_type": "code",
   "execution_count": 12,
   "id": "04df5f06",
   "metadata": {},
   "outputs": [
    {
     "name": "stdout",
     "output_type": "stream",
     "text": [
      "trainX shape:  (7352, 128, 9)\n",
      "trainy shape:  (7352, 6)\n",
      "testX shape:  (2947, 128, 9)\n",
      "testy shape:  (2947, 6)\n"
     ]
    }
   ],
   "source": [
    "trainX, trainy, testX, testy = load_dataset()"
   ]
  },
  {
   "cell_type": "code",
   "execution_count": 13,
   "id": "b54c431c",
   "metadata": {},
   "outputs": [],
   "source": [
    "# 특성 분포를 시각화하는 보조 함수\n",
    "def plot_distributions(trainX):\n",
    "    # 중복 부분을 제거합니다.\n",
    "    cut = int(trainX.shape[1] / 2)\n",
    "    longX = trainX[:, -cut:, :]\n",
    "    # 시계열 데이터를 2D 배열로 변환합니다.\n",
    "    longX = longX.reshape((longX.shape[0] * longX.shape[1], longX.shape[2]))\n",
    "    print(longX.shape)\n",
    "    # 새로운 그림을 생성합니다.\n",
    "    pyplot.figure()\n",
    "    xaxis = None\n",
    "    # 각 특성에 대한 루프를 실행합니다.\n",
    "    for i in range(longX.shape[1]):\n",
    "        # 현재 특성에 대한 하위 플롯을 생성합니다.\n",
    "        ax = pyplot.subplot(longX.shape[1], 1, i+1, sharex=xaxis)\n",
    "        # x 축의 범위를 설정합니다.\n",
    "        ax.set_xlim(-1, 1)\n",
    "        # 첫 번째 특성인 경우 x 축을 설정합니다.\n",
    "        if i == 0:\n",
    "            xaxis = ax\n",
    "        # 현재 특성의 히스토그램을 그립니다.\n",
    "        pyplot.hist(longX[:, i], bins=100)\n",
    "    # 그림을 화면에 출력합니다.\n",
    "    pyplot.show()"
   ]
  },
  {
   "cell_type": "code",
   "execution_count": 14,
   "id": "272a4969",
   "metadata": {},
   "outputs": [
    {
     "name": "stdout",
     "output_type": "stream",
     "text": [
      "(470528, 9)\n"
     ]
    },
    {
     "data": {
      "image/png": "[encoded data removed]",
      "text/plain": [
       "<Figure size 640x480 with 9 Axes>"
      ]
     },
     "metadata": {},
     "output_type": "display_data"
    }
   ],
   "source": [
    "# 특성 분포 시각화를 위한 함수 호출\n",
    "plot_distributions(trainX)"
   ]
  },
  {
   "cell_type": "markdown",
   "id": "52db4b64",
   "metadata": {},
   "source": [
    "# BiLSTM"
   ]
  },
  {
   "cell_type": "code",
   "execution_count": 15,
   "id": "abc668fd",
   "metadata": {},
   "outputs": [],
   "source": [
    "batch_size = 64 # 미니배치 크기 설정\n",
    "validation_split = 0.2 # 검증 데이터 비율 설정 "
   ]
  },
  {
   "cell_type": "code",
   "execution_count": null,
   "id": "5e1900c5",
   "metadata": {},
   "outputs": [],
   "source": [
    "# 모델 입력 변수 설정\n",
    "n_timesteps, n_features, n_outputs = trainX.shape[1], trainX.shape[2], trainy.shape[1]\n",
    "model = Sequential()  # Sequential 모델 생성\n",
    "\n",
    "# Bidirectional LSTM 레이어 추가\n",
    "model.add(Bidirectional(LSTM(100), input_shape=(n_timesteps, n_features)))\n",
    "# Bidirectional LSTM은 양방향 정보를 고려하는 LSTM 레이어\n",
    "# 100개의 유닛을 가지며 입력 형태는 (시간 스텝, 특성)입니다.\n",
    "\n",
    "model.add(Dropout(0.5))  # 드롭아웃 레이어 추가 (드롭아웃 비율: 0.5)\n",
    "model.add(Dense(100, activation='relu'))  # 은닉층(Dense) 추가 (유닛 수: 100, 활성화 함수: ReLU)\n",
    "model.add(Dense(n_outputs, activation='softmax'))  # 출력 레이어 추가 (출력 개수: n_outputs, 활성화 함수: softmax)\n",
    "model.summary()  # 모델 구조 요약 출력"
   ]
  },
  {
   "cell_type": "code",
   "execution_count": 18,
   "id": "965c2bc7",
   "metadata": {},
   "outputs": [],
   "source": [
    "model.compile(loss='categorical_crossentropy', optimizer='adam', metrics=['accuracy'])"
   ]
  },
  {
   "cell_type": "code",
   "execution_count": null,
   "id": "640b77af",
   "metadata": {},
   "outputs": [],
   "source": [
    "# 네트워크를 훈련\n",
    "\n",
    "train_epochs = 7\n",
    "history = model.fit( # 모델을 훈련하고 히스토리 정보를 저장\n",
    "    trainX,           # 훈련 데이터\n",
    "    trainy,           # 훈련 데이터의 레이블\n",
    "    epochs=train_epochs,  # 에포크 수\n",
    "    batch_size=batch_size,  # 미니배치 크기\n",
    "    verbose=True,          # 훈련 과정을 출력\n",
    "    validation_split=validation_split,  # 검증 데이터 비율\n",
    "    shuffle=True           # 데이터를 무작위로 셔플\n",
    ")"
   ]
  },
  {
   "cell_type": "code",
   "execution_count": null,
   "id": "23dc6b02",
   "metadata": {},
   "outputs": [],
   "source": [
    "# 훈련 및 검증 손실을 시각화\n",
    "plt.plot(history.history['loss'], label='Train Loss') # 훈련 손실(train loss)을 그래프에 추가\n",
    "plt.plot(history.history['val_loss'], label='Validation Loss') # 검증 손실(validation loss)을 그래프에 추가\n",
    "plt.title('Model Loss') # 그래프 제목 설정\n",
    "plt.ylabel('Loss') # y 축 레이블 설정\n",
    "plt.xlabel('Epoch') # x 축 레이블 설정\n",
    "plt.legend(['Train', 'Validation'], loc='upper left') # 범례(legend) 추가 (훈련 손실과 검증 손실에 대한 레이블 표시)\n",
    "plt.show() # 그래프를 화면에 출력"
   ]
  },
  {
   "cell_type": "code",
   "execution_count": null,
   "id": "2e053126",
   "metadata": {},
   "outputs": [],
   "source": [
    "# 모델 평가\n",
    "\n",
    "# 테스트 손실(test loss)과 테스트 정확도(test accuracy)를 계산\n",
    "test_loss, test_accuracy = model.evaluate(testX, testy, batch_size=batch_size, verbose=0)\n",
    "print(\"Accuracy of the BiLSTM model:\", test_accuracy) # 모델의 정확도를 출력\n",
    "predictions = model.predict(testX) # 모델을 사용하여 테스트 데이터에 대한 예측을 수행"
   ]
  },
  {
   "cell_type": "code",
   "execution_count": null,
   "id": "c87bbd73",
   "metadata": {},
   "outputs": [],
   "source": [
    "predictions"
   ]
  },
  {
   "cell_type": "code",
   "execution_count": null,
   "id": "387dbefc",
   "metadata": {},
   "outputs": [],
   "source": [
    "# 분류 결과 시각화 및 출력 함수 정의\n",
    "\n",
    "def display_results(testy, predictions, classNames):\n",
    "    # 정답 레이블과 모델의 예측 결과를 각각의 클래스 인덱스로 변환\n",
    "    y_test = np.argmax(testy, axis=1)\n",
    "    y_scores = np.argmax(predictions, axis=1)\n",
    "    classes = len(classNames) # 클래스의 개수를 계산\n",
    "    cm = confusion_matrix(y_test, y_scores) # 혼동 행렬을 계산\n",
    "    \n",
    "    # 혼동 행렬 출력\n",
    "    print(\"**** Confusion Matrix ****\")\n",
    "    print(cm)\n",
    "    \n",
    "    # 분류 보고서 출력\n",
    "    print(\"**** Classification Report ****\")\n",
    "    print(classification_report(y_test, y_scores, target_names=classNames))\n",
    "    \n",
    "    # 혼동 행렬 시각화\n",
    "    con = np.zeros((classes, classes))\n",
    "    for x in range(classes):\n",
    "        for y in range(classes):\n",
    "            con[x, y] = cm[x, y]  # 혼동 행렬의 값\n",
    "    \n",
    "    plt.figure(figsize=(10, 8))\n",
    "    \n",
    "    # seaborn을 사용하여 혼동 행렬을 열람합니다.\n",
    "    df = sns.heatmap(con, annot=True, fmt='g', cmap='Blues', xticklabels=classNames, yticklabels=classNames)\n",
    "    plt.xlabel('Predicted')  # x 축 레이블\n",
    "    plt.ylabel('Actual')  # y 축 레이블\n",
    "    plt.show() # 그래프를 화면에 출력\n",
    "In [20]:\n"
   ]
  },
  {
   "cell_type": "code",
   "execution_count": null,
   "id": "2e2e8a40",
   "metadata": {},
   "outputs": [],
   "source": [
    "classNames = [\"1\", \"2\", \"3\", \"4\", \"5\", \"6\"] # classNames = 레이블\n",
    "display_results(testy, predictions, classNames) # 분류 결과를 시각화, 출력"
   ]
  },
  {
   "cell_type": "markdown",
   "id": "aae0a331",
   "metadata": {},
   "source": [
    "# GRU"
   ]
  },
  {
   "cell_type": "code",
   "execution_count": 19,
   "id": "2218f42f",
   "metadata": {},
   "outputs": [
    {
     "name": "stdout",
     "output_type": "stream",
     "text": [
      "Model: \"sequential_3\"\n",
      "_________________________________________________________________\n",
      " Layer (type)                Output Shape              Param #   \n",
      "=================================================================\n",
      " gru (GRU)                   (None, 100)               33300     \n",
      "                                                                 \n",
      " dropout (Dropout)           (None, 100)               0         \n",
      "                                                                 \n",
      " dense (Dense)               (None, 100)               10100     \n",
      "                                                                 \n",
      " dense_1 (Dense)             (None, 6)                 606       \n",
      "                                                                 \n",
      "=================================================================\n",
      "Total params: 44006 (171.90 KB)\n",
      "Trainable params: 44006 (171.90 KB)\n",
      "Non-trainable params: 0 (0.00 Byte)\n",
      "_________________________________________________________________\n"
     ]
    }
   ],
   "source": [
    "# Sequential 모델 생성\n",
    "model_GRU = Sequential()\n",
    "\n",
    "# GRU 레이어 추가: 100개의 유닛을 가지며 입력 형태는 (n_timesteps, n_features)\n",
    "model_GRU.add(GRU(100, input_shape=(n_timesteps, n_features)))\n",
    "\n",
    "# 드롭아웃 레이어 추가: 오버피팅을 방지하기 위해 50%의 드롭아웃 적용\n",
    "model_GRU.add(Dropout(0.5))\n",
    "\n",
    "# 완전 연결 레이어 추가: 100개의 유닛을 가지며 활성화 함수: ReLU\n",
    "model_GRU.add(Dense(100, activation='relu'))\n",
    "\n",
    "# 출력 레이어 추가: 출력 클래스 수에 해당하는 뉴런 수와 소프트맥스 활성화 함수\n",
    "model_GRU.add(Dense(n_outputs, activation='softmax'))\n",
    "\n",
    "# 모델 요약 정보 출력\n",
    "model_GRU.summary()"
   ]
  },
  {
   "cell_type": "code",
   "execution_count": null,
   "id": "f57bedf9",
   "metadata": {},
   "outputs": [],
   "source": [
    "model_GRU.compile(\n",
    "    loss='categorical_crossentropy',  # 손실 함수 설정\n",
    "    optimizer='adam',                # 옵티마이저 설정\n",
    "    metrics=['accuracy']             # 평가 지표 설정\n",
    ")"
   ]
  },
  {
   "cell_type": "code",
   "execution_count": null,
   "id": "b76564b1",
   "metadata": {},
   "outputs": [],
   "source": [
    "# 네트워크를 훈련\n",
    "\n",
    "train_epochs = 10\n",
    "history_GRU = model_GRU.fit( # 모델을 훈련하고 히스토리 정보를 저장\n",
    "    trainX,           # 훈련 데이터\n",
    "    trainy,           # 훈련 데이터의 레이블\n",
    "    epochs=train_epochs,  # 에포크 수\n",
    "    batch_size=batch_size,  # 미니배치 크기\n",
    "    verbose=True,          # 훈련 과정을 출력\n",
    "    validation_split=validation_split,  # 검증 데이터 비율\n",
    "    shuffle=True           # 데이터를 무작위로 셔플\n",
    ")"
   ]
  },
  {
   "cell_type": "code",
   "execution_count": null,
   "id": "4823f299",
   "metadata": {},
   "outputs": [],
   "source": [
    "# 훈련 및 검증 손실을 시각화\n",
    "plt.plot(history_GRU.history['loss'], label='Train Loss') # 훈련 손실(train loss)을 그래프에 추가\n",
    "plt.plot(history_GRU.history['val_loss'], label='Validation Loss') # 검증 손실(validation loss)을 그래프에 추가\n",
    "plt.title('Model Loss') # 그래프 제목 설정\n",
    "plt.ylabel('Loss') # y 축 레이블 설정\n",
    "plt.xlabel('Epoch') # x 축 레이블 설정\n",
    "plt.legend(['Train', 'Validation'], loc='upper left') # 범례(legend) 추가 (훈련 손실과 검증 손실에 대한 레이블 표시)"
   ]
  },
  {
   "cell_type": "code",
   "execution_count": null,
   "id": "844e4578",
   "metadata": {},
   "outputs": [],
   "source": [
    "# 모델 평가\n",
    "\n",
    "# 테스트 손실(test loss)과 테스트 정확도(test accuracy)를 계산\n",
    "test_loss, test_accuracy = model_GRU.evaluate(testX, testy, batch_size=batch_size, verbose=0)\n",
    "print(\"Accuracy of the GRU model:\", test_accuracy) # 모델의 정확도를 출력\n",
    "predictions = model_GRU.predict(testX) # 모델을 사용하여 테스트 데이터에 대한 예측을 수행"
   ]
  },
  {
   "cell_type": "code",
   "execution_count": null,
   "id": "8c0b9b47",
   "metadata": {},
   "outputs": [],
   "source": [
    "predictions"
   ]
  },
  {
   "cell_type": "code",
   "execution_count": null,
   "id": "88bf2818",
   "metadata": {},
   "outputs": [],
   "source": [
    "# 분류 결과 시각화 및 출력 함수 정의\n",
    "\n",
    "def display_results(testy, predictions, classNames):\n",
    "    # 정답 레이블과 모델의 예측 결과를 각각의 클래스 인덱스로 변환\n",
    "    y_test = np.argmax(testy, axis=1)\n",
    "    y_scores = np.argmax(predictions, axis=1)\n",
    "    classes = len(classNames) # 클래스의 개수를 계산\n",
    "    cm = confusion_matrix(y_test, y_scores) # 혼동 행렬을 계산\n",
    "    \n",
    "    # 혼동 행렬 출력\n",
    "    print(\"**** Confusion Matrix ****\")\n",
    "    print(cm)\n",
    "    \n",
    "    # 분류 보고서 출력\n",
    "    print(\"**** Classification Report ****\")\n",
    "    print(classification_report(y_test, y_scores, target_names=classNames))\n",
    "    \n",
    "    # 혼동 행렬 시각화\n",
    "    con = np.zeros((classes, classes))\n",
    "    for x in range(classes):\n",
    "        for y in range(classes):\n",
    "            con[x, y] = cm[x, y]  # 혼동 행렬의 값\n",
    "    \n",
    "    plt.figure(figsize=(10, 8))\n",
    "    \n",
    "    # seaborn을 사용하여 혼동 행렬을 열람합니다.\n",
    "    df = sns.heatmap(con, annot=True, fmt='g', cmap='Blues', xticklabels=classNames, yticklabels=classNames)\n",
    "    plt.xlabel('Predicted')  # x 축 레이블\n",
    "    plt.ylabel('Actual')  # y 축 레이블\n",
    "    plt.show() # 그래프를 화면에 출력"
   ]
  },
  {
   "cell_type": "code",
   "execution_count": null,
   "id": "61969f8f",
   "metadata": {},
   "outputs": [],
   "source": [
    "classNames = [\"1\", \"2\", \"3\", \"4\", \"5\", \"6\"] # classNames = 레이블\n",
    "display_results(testy, predictions, classNames) # 분류 결과를 시각화, 출력"
   ]
  },
  {
   "cell_type": "markdown",
   "id": "f405e8cd",
   "metadata": {},
   "source": [
    "# BiGRU"
   ]
  },
  {
   "cell_type": "code",
   "execution_count": null,
   "id": "5bfb8163",
   "metadata": {},
   "outputs": [],
   "source": [
    "n_timesteps, n_features, n_outputs = trainX.shape[1], trainX.shape[2], trainy.shape[1]\n",
    "model_BiGRU = Sequential() # Sequential 모델 생성\n",
    "\n",
    "# BiGRU 레이어 추가: 100개의 유닛을 가지며 입력 형태는 (n_timesteps, n_features)\n",
    "model_BiGRU.add(GRU(100, input_shape=(n_timesteps, n_features)))\n",
    "\n",
    "# 드롭아웃 레이어 추가: 오버피팅을 방지하기 위해 50%의 드롭아웃 적용\n",
    "model_BiGRU.add(Dropout(0.5))\n",
    "\n",
    "# 완전 연결 레이어 추가: 100개의 유닛을 가지며 활성화 함수: ReLU\n",
    "model_BiGRU.add(Dense(100, activation='relu'))\n",
    "\n",
    "# 출력 레이어 추가: 출력 클래스 수에 해당하는 뉴런 수와 소프트맥스 활성화 함수\n",
    "model_BiGRU.add(Dense(n_outputs, activation='softmax'))\n",
    "\n",
    "# 모델 요약 정보 출력\n",
    "model_BiGRU.summary()"
   ]
  },
  {
   "cell_type": "code",
   "execution_count": null,
   "id": "889d3e85",
   "metadata": {},
   "outputs": [],
   "source": [
    "model_BiGRU.compile(\n",
    "    loss='categorical_crossentropy',  # 손실 함수 설정\n",
    "    optimizer='adam',                # 옵티마이저 설정\n",
    "    metrics=['accuracy']             # 평가 지표 설정\n",
    ")"
   ]
  },
  {
   "cell_type": "code",
   "execution_count": null,
   "id": "51494187",
   "metadata": {},
   "outputs": [],
   "source": [
    "# 네트워크를 훈련\n",
    "\n",
    "train_epochs = 10\n",
    "history_BiGRU = model_BiGRU.fit( # 모델을 훈련하고 히스토리 정보를 저장\n",
    "    trainX,           # 훈련 데이터\n",
    "    trainy,           # 훈련 데이터의 레이블\n",
    "    epochs=train_epochs,  # 에포크 수\n",
    "    batch_size=batch_size,  # 미니배치 크기\n",
    "    verbose=True,          # 훈련 과정을 출력\n",
    "    validation_split=validation_split,  # 검증 데이터 비율\n",
    "    shuffle=True           # 데이터를 무작위로 셔플\n",
    ")"
   ]
  },
  {
   "cell_type": "code",
   "execution_count": null,
   "id": "6486d0e5",
   "metadata": {},
   "outputs": [],
   "source": [
    "# 훈련 및 검증 손실을 시각화\n",
    "plt.plot(history_BiGRU.history['loss'], label='Train Loss') # 훈련 손실(train loss)을 그래프에 추가\n",
    "plt.plot(history_BiGRU.history['val_loss'], label='Validation Loss') # 검증 손실(validation loss)을 그래프에 추가\n",
    "plt.title('Model Loss') # 그래프 제목 설정\n",
    "plt.ylabel('Loss') # y 축 레이블 설정\n",
    "plt.xlabel('Epoch') # x 축 레이블 설정\n",
    "plt.legend(['Train', 'Validation'], loc='upper left') # 범례(legend) 추가 (훈련 손실과 검증 손실에 대한 레이블 표시)"
   ]
  },
  {
   "cell_type": "code",
   "execution_count": null,
   "id": "a4683293",
   "metadata": {},
   "outputs": [],
   "source": [
    "predictions"
   ]
  },
  {
   "cell_type": "code",
   "execution_count": null,
   "id": "c5241a40",
   "metadata": {},
   "outputs": [],
   "source": [
    "# 분류 결과 시각화 및 출력 함수 정의\n",
    "\n",
    "def display_results(testy, predictions, classNames):\n",
    "    # 정답 레이블과 모델의 예측 결과를 각각의 클래스 인덱스로 변환\n",
    "    y_test = np.argmax(testy, axis=1)\n",
    "    y_scores = np.argmax(predictions, axis=1)\n",
    "    classes = len(classNames) # 클래스의 개수를 계산\n",
    "    cm = confusion_matrix(y_test, y_scores) # 혼동 행렬을 계산\n",
    "    \n",
    "    # 혼동 행렬 출력\n",
    "    print(\"**** Confusion Matrix ****\")\n",
    "    print(cm)\n",
    "    \n",
    "    # 분류 보고서 출력\n",
    "    print(\"**** Classification Report ****\")\n",
    "    print(classification_report(y_test, y_scores, target_names=classNames))\n",
    "    \n",
    "    # 혼동 행렬 시각화\n",
    "    con = np.zeros((classes, classes))\n",
    "    for x in range(classes):\n",
    "        for y in range(classes):\n",
    "            con[x, y] = cm[x, y]  # 혼동 행렬의 값\n",
    "    \n",
    "    plt.figure(figsize=(10, 8))\n",
    "    \n",
    "    # seaborn을 사용하여 혼동 행렬을 열람합니다.\n",
    "    df = sns.heatmap(con, annot=True, fmt='g', cmap='Blues', xticklabels=classNames, yticklabels=classNames)\n",
    "    plt.xlabel('Predicted')  # x 축 레이블\n",
    "    plt.ylabel('Actual')  # y 축 레이블\n",
    "    plt.show() # 그래프를 화면에 출력"
   ]
  },
  {
   "cell_type": "code",
   "execution_count": null,
   "id": "db8338a3",
   "metadata": {},
   "outputs": [],
   "source": [
    "classNames = [\"1\", \"2\", \"3\", \"4\", \"5\", \"6\"] # classNames = 레이블\n",
    "display_results(testy, predictions, classNames) # 분류 결과를 시각화, 출력"
   ]
  }
 ],
 "metadata": {
  "kernelspec": {
   "display_name": "Python 3 (ipykernel)",
   "language": "python",
   "name": "python3"
  },
  "language_info": {
   "codemirror_mode": {
    "name": "ipython",
    "version": 3
   },
   "file_extension": ".py",
   "mimetype": "text/x-python",
   "name": "python",
   "nbconvert_exporter": "python",
   "pygments_lexer": "ipython3",
   "version": "3.9.13"
  }
 },
 "nbformat": 4,
 "nbformat_minor": 5
}
