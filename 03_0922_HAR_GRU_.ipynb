{
 "cells": [
  {
   "cell_type": "code",
   "execution_count": 1,
   "id": "561ea325",
   "metadata": {},
   "outputs": [],
   "source": [
    "import numpy as np\n",
    "import pandas as pd\n",
    "import tensorflow as tf\n",
    "import datetime, os\n",
    "from sklearn import preprocessing\n",
    "import numpy as np\n",
    "\n",
    "#Dividir el DF\n",
    "from sklearn.model_selection import train_test_split\n",
    "#Para las redes neuronales\n",
    "\n",
    "from keras.models import Model, load_model, Sequential\n",
    "from keras.layers import Input, LSTM, RepeatVector, TimeDistributed, Bidirectional, GRU, Dense,Dropout\n",
    "from tensorflow.keras import optimizers"
   ]
  },
  {
   "cell_type": "code",
   "execution_count": 2,
   "id": "65b8f1ac",
   "metadata": {},
   "outputs": [],
   "source": [
    "LABELS = ['WALKING', 'WALKING_UPSTAIRS', 'WALKING_DOWNSTAIRS', 'SITTING', 'STANDING', 'LAYING']\n",
    "SIGNALS = [\"body_acc_x_\", \"body_acc_y_\", \"body_acc_z_\",\n",
    "           \"body_gyro_x_\", \"body_gyro_y_\", \"body_gyro_z_\",\n",
    "           \"total_acc_x_\", \"total_acc_y_\", \"total_acc_z_\"]"
   ]
  },
  {
   "cell_type": "code",
   "execution_count": 7,
   "id": "e5e3f70d",
   "metadata": {},
   "outputs": [],
   "source": [
    "train_paths = ['/Users/minjeong/Downloads/UCI HAR Dataset-2/train/Inertial Signals/' + signal + 'train.txt' for signal in SIGNALS]\n",
    "test_paths = ['/Users/minjeong/Downloads/UCI HAR Dataset-2/test/Inertial Signals/' + signal + 'test.txt' for signal in SIGNALS]"
   ]
  },
  {
   "cell_type": "code",
   "execution_count": 8,
   "id": "d1b631e2",
   "metadata": {},
   "outputs": [],
   "source": [
    "def __load_X(X_signal_paths):\n",
    "    X_signals = []\n",
    "\n",
    "    for signal_type_path in X_signal_paths:\n",
    "        file = open(signal_type_path, 'r')\n",
    "        # Read dataset from disk, dealing with text files' syntax\n",
    "        X_signals.append(\n",
    "            [np.array(serie, dtype=np.float32) for serie in [\n",
    "                row.replace('  ', ' ').strip().split(' ') for row in file\n",
    "            ]]\n",
    "        )\n",
    "        file.close()\n",
    "\n",
    "    return np.transpose(np.array(X_signals), (1, 2, 0))"
   ]
  },
  {
   "cell_type": "code",
   "execution_count": 9,
   "id": "60961602",
   "metadata": {},
   "outputs": [],
   "source": [
    "x_train = __load_X(train_paths)\n",
    "x_test = __load_X(test_paths)"
   ]
  },
  {
   "cell_type": "code",
   "execution_count": 10,
   "id": "acfedccd",
   "metadata": {},
   "outputs": [],
   "source": [
    "x_train = __load_X(train_paths)\n",
    "x_test = __load_X(test_paths)\n",
    "y_train = np.loadtxt('/Users/minjeong/Downloads/UCI HAR Dataset-2/train/y_train.txt',  dtype=np.int32)\n",
    "y_test = np.loadtxt('/Users/minjeong/Downloads/UCI HAR Dataset-2/test/y_test.txt', dtype=np.int32)"
   ]
  },
  {
   "cell_type": "code",
   "execution_count": 11,
   "id": "898ad906",
   "metadata": {},
   "outputs": [
    {
     "name": "stdout",
     "output_type": "stream",
     "text": [
      "x_train shape is:  (7352, 128, 9)\n",
      "x_test shape is:  (2947, 128, 9)\n",
      "y_train shape is:  (7352,)\n",
      "y_test shape is:  (2947,)\n",
      "Número de clases:  6\n"
     ]
    }
   ],
   "source": [
    "print('x_train shape is: ', x_train.shape)\n",
    "print('x_test shape is: ', x_test.shape)\n",
    "\n",
    "print('y_train shape is: ', y_train.shape)\n",
    "print('y_test shape is: ', y_test.shape)\n",
    "\n",
    "print('Número de clases: ', len(np.unique(y_train)))"
   ]
  },
  {
   "cell_type": "code",
   "execution_count": 12,
   "id": "521714a5",
   "metadata": {},
   "outputs": [
    {
     "name": "stdout",
     "output_type": "stream",
     "text": [
      "(128, 9)\n"
     ]
    },
    {
     "data": {
      "text/plain": [
       "128"
      ]
     },
     "execution_count": 12,
     "metadata": {},
     "output_type": "execute_result"
    }
   ],
   "source": [
    "print(x_train.shape[1:])\n",
    "x_train.shape[1]"
   ]
  },
  {
   "cell_type": "code",
   "execution_count": 13,
   "id": "9c2a0b0a",
   "metadata": {},
   "outputs": [],
   "source": [
    "imput_dim = x_train.shape"
   ]
  },
  {
   "cell_type": "code",
   "execution_count": 14,
   "id": "577b6a4d",
   "metadata": {},
   "outputs": [],
   "source": [
    "input_layer = Input(shape = (imput_dim[1:]))\n",
    "\n",
    "layer_1 = Bidirectional(GRU(128, activation = 'relu', return_sequences = True,name='encoder_layer_2'))(input_layer)\n",
    "layer_2 = GRU(50, activation = 'relu', return_sequences = False,name='encoder_layer_3')(layer_1)\n",
    "\n",
    "layer_3 = RepeatVector(x_train.shape[1],name='repeatVector_layer')(layer_2)\n",
    "\n",
    "layer_4 = GRU(50, activation = 'relu', return_sequences = True,name='decoder_layer_1')(layer_3)\n",
    "layer_5 = GRU(128, activation = 'relu', return_sequences = True,name='decoder_layer_2')(layer_4)\n",
    "output_layer = TimeDistributed(Dense(imput_dim[2]),name='output_layer')(layer_5)\n",
    "\n",
    "model_GRU = Model(inputs = input_layer , outputs = output_layer)"
   ]
  },
  {
   "cell_type": "code",
   "execution_count": 15,
   "id": "b8f9edda",
   "metadata": {},
   "outputs": [
    {
     "name": "stdout",
     "output_type": "stream",
     "text": [
      "Model: \"model\"\n",
      "_________________________________________________________________\n",
      " Layer (type)                Output Shape              Param #   \n",
      "=================================================================\n",
      " input_1 (InputLayer)        [(None, 128, 9)]          0         \n",
      "                                                                 \n",
      " bidirectional (Bidirection  (None, 128, 256)          106752    \n",
      " al)                                                             \n",
      "                                                                 \n",
      " encoder_layer_3 (GRU)       (None, 50)                46200     \n",
      "                                                                 \n",
      " repeatVector_layer (Repeat  (None, 128, 50)           0         \n",
      " Vector)                                                         \n",
      "                                                                 \n",
      " decoder_layer_1 (GRU)       (None, 128, 50)           15300     \n",
      "                                                                 \n",
      " decoder_layer_2 (GRU)       (None, 128, 128)          69120     \n",
      "                                                                 \n",
      " output_layer (TimeDistribu  (None, 128, 9)            1161      \n",
      " ted)                                                            \n",
      "                                                                 \n",
      "=================================================================\n",
      "Total params: 238533 (931.77 KB)\n",
      "Trainable params: 238533 (931.77 KB)\n",
      "Non-trainable params: 0 (0.00 Byte)\n",
      "_________________________________________________________________\n"
     ]
    }
   ],
   "source": [
    "model_GRU.summary()"
   ]
  },
  {
   "cell_type": "code",
   "execution_count": 16,
   "id": "f12a0f4a",
   "metadata": {},
   "outputs": [],
   "source": [
    "encoder_GRU = Model(inputs = input_layer , outputs = layer_2)"
   ]
  },
  {
   "cell_type": "code",
   "execution_count": 17,
   "id": "6f0c36b6",
   "metadata": {},
   "outputs": [],
   "source": [
    "from keras.callbacks import ModelCheckpoint, EarlyStopping\n",
    "\n",
    "early_stop = EarlyStopping(monitor='val_loss',mode='min', verbose=1, patience=50)\n",
    "model_GRU.compile(optimizer='adam', loss='mse',metrics=['mae', 'mse'])"
   ]
  },
  {
   "cell_type": "code",
   "execution_count": 18,
   "id": "a66ed34c",
   "metadata": {},
   "outputs": [
    {
     "name": "stdout",
     "output_type": "stream",
     "text": [
      "Epoch 1/100\n",
      "15/15 [==============================] - 25s 2s/step - loss: 0.1262 - mae: 0.2169 - mse: 0.1262 - val_loss: 0.0744 - val_mae: 0.1649 - val_mse: 0.0744\n",
      "Epoch 2/100\n",
      "15/15 [==============================] - 25s 2s/step - loss: 0.0745 - mae: 0.1680 - mse: 0.0745 - val_loss: 0.0613 - val_mae: 0.1476 - val_mse: 0.0613\n",
      "Epoch 3/100\n",
      "15/15 [==============================] - 24s 2s/step - loss: 0.0647 - mae: 0.1465 - mse: 0.0647 - val_loss: 0.0581 - val_mae: 0.1383 - val_mse: 0.0581\n",
      "Epoch 4/100\n",
      "15/15 [==============================] - 25s 2s/step - loss: 0.0611 - mae: 0.1360 - mse: 0.0611 - val_loss: 0.0549 - val_mae: 0.1315 - val_mse: 0.0549\n",
      "Epoch 5/100\n",
      "15/15 [==============================] - 25s 2s/step - loss: 0.0582 - mae: 0.1286 - mse: 0.0582 - val_loss: 0.0520 - val_mae: 0.1233 - val_mse: 0.0520\n",
      "Epoch 6/100\n",
      "15/15 [==============================] - 26s 2s/step - loss: 0.0566 - mae: 0.1216 - mse: 0.0566 - val_loss: 0.0507 - val_mae: 0.1195 - val_mse: 0.0507\n",
      "Epoch 7/100\n",
      "15/15 [==============================] - 25s 2s/step - loss: 0.0558 - mae: 0.1194 - mse: 0.0558 - val_loss: 0.0495 - val_mae: 0.1155 - val_mse: 0.0495\n",
      "Epoch 8/100\n",
      "15/15 [==============================] - 25s 2s/step - loss: 0.0545 - mae: 0.1187 - mse: 0.0545 - val_loss: 0.0476 - val_mae: 0.1169 - val_mse: 0.0476\n",
      "Epoch 9/100\n",
      "15/15 [==============================] - 25s 2s/step - loss: 0.0528 - mae: 0.1171 - mse: 0.0528 - val_loss: 0.0465 - val_mae: 0.1130 - val_mse: 0.0465\n",
      "Epoch 10/100\n",
      "15/15 [==============================] - 24s 2s/step - loss: 0.0522 - mae: 0.1146 - mse: 0.0522 - val_loss: 0.0462 - val_mae: 0.1114 - val_mse: 0.0462\n",
      "Epoch 11/100\n",
      "15/15 [==============================] - 25s 2s/step - loss: 0.0520 - mae: 0.1136 - mse: 0.0520 - val_loss: 0.0461 - val_mae: 0.1109 - val_mse: 0.0461\n",
      "Epoch 12/100\n",
      "15/15 [==============================] - 24s 2s/step - loss: 0.0519 - mae: 0.1134 - mse: 0.0519 - val_loss: 0.0460 - val_mae: 0.1108 - val_mse: 0.0460\n",
      "Epoch 13/100\n",
      "15/15 [==============================] - 25s 2s/step - loss: 0.0518 - mae: 0.1130 - mse: 0.0518 - val_loss: 0.0459 - val_mae: 0.1103 - val_mse: 0.0459\n",
      "Epoch 14/100\n",
      "15/15 [==============================] - 24s 2s/step - loss: 0.0518 - mae: 0.1129 - mse: 0.0518 - val_loss: 0.0459 - val_mae: 0.1110 - val_mse: 0.0459\n",
      "Epoch 15/100\n",
      "15/15 [==============================] - 24s 2s/step - loss: 0.0517 - mae: 0.1128 - mse: 0.0517 - val_loss: 0.0458 - val_mae: 0.1110 - val_mse: 0.0458\n",
      "Epoch 16/100\n",
      "15/15 [==============================] - 24s 2s/step - loss: 0.0517 - mae: 0.1128 - mse: 0.0517 - val_loss: 0.0457 - val_mae: 0.1102 - val_mse: 0.0457\n",
      "Epoch 17/100\n",
      "15/15 [==============================] - 24s 2s/step - loss: 0.0517 - mae: 0.1131 - mse: 0.0517 - val_loss: 0.0457 - val_mae: 0.1108 - val_mse: 0.0457\n",
      "Epoch 18/100\n",
      "15/15 [==============================] - 24s 2s/step - loss: 0.0516 - mae: 0.1126 - mse: 0.0516 - val_loss: 0.0456 - val_mae: 0.1099 - val_mse: 0.0456\n",
      "Epoch 19/100\n",
      "15/15 [==============================] - 25s 2s/step - loss: 0.0515 - mae: 0.1122 - mse: 0.0515 - val_loss: 0.0456 - val_mae: 0.1097 - val_mse: 0.0456\n",
      "Epoch 20/100\n",
      "15/15 [==============================] - 25s 2s/step - loss: 0.0516 - mae: 0.1129 - mse: 0.0516 - val_loss: 0.0457 - val_mae: 0.1116 - val_mse: 0.0457\n",
      "Epoch 21/100\n",
      "15/15 [==============================] - 24s 2s/step - loss: 0.0515 - mae: 0.1124 - mse: 0.0515 - val_loss: 0.0456 - val_mae: 0.1099 - val_mse: 0.0456\n",
      "Epoch 22/100\n",
      "15/15 [==============================] - 25s 2s/step - loss: 0.0515 - mae: 0.1124 - mse: 0.0515 - val_loss: 0.0455 - val_mae: 0.1095 - val_mse: 0.0455\n",
      "Epoch 23/100\n",
      "15/15 [==============================] - 24s 2s/step - loss: 0.0515 - mae: 0.1126 - mse: 0.0515 - val_loss: 0.0455 - val_mae: 0.1097 - val_mse: 0.0455\n",
      "Epoch 24/100\n",
      "15/15 [==============================] - 25s 2s/step - loss: 0.0515 - mae: 0.1123 - mse: 0.0515 - val_loss: 0.0455 - val_mae: 0.1096 - val_mse: 0.0455\n",
      "Epoch 25/100\n",
      "15/15 [==============================] - 25s 2s/step - loss: 0.0514 - mae: 0.1121 - mse: 0.0514 - val_loss: 0.0455 - val_mae: 0.1100 - val_mse: 0.0455\n",
      "Epoch 26/100\n",
      "15/15 [==============================] - 40s 2s/step - loss: 0.0514 - mae: 0.1123 - mse: 0.0514 - val_loss: 0.0454 - val_mae: 0.1090 - val_mse: 0.0454\n",
      "Epoch 27/100\n",
      "15/15 [==============================] - 25s 2s/step - loss: 0.0514 - mae: 0.1118 - mse: 0.0514 - val_loss: 0.0455 - val_mae: 0.1094 - val_mse: 0.0455\n",
      "Epoch 28/100\n",
      "15/15 [==============================] - 24s 2s/step - loss: 0.0514 - mae: 0.1119 - mse: 0.0514 - val_loss: 0.0455 - val_mae: 0.1097 - val_mse: 0.0455\n",
      "Epoch 29/100\n",
      "15/15 [==============================] - 25s 2s/step - loss: 0.0514 - mae: 0.1121 - mse: 0.0514 - val_loss: 0.0454 - val_mae: 0.1093 - val_mse: 0.0454\n",
      "Epoch 30/100\n",
      "15/15 [==============================] - 25s 2s/step - loss: 0.0514 - mae: 0.1120 - mse: 0.0514 - val_loss: 0.0455 - val_mae: 0.1099 - val_mse: 0.0455\n",
      "Epoch 31/100\n",
      "15/15 [==============================] - 24s 2s/step - loss: 0.0514 - mae: 0.1124 - mse: 0.0514 - val_loss: 0.0455 - val_mae: 0.1099 - val_mse: 0.0455\n",
      "Epoch 32/100\n",
      "15/15 [==============================] - 24s 2s/step - loss: 0.0514 - mae: 0.1118 - mse: 0.0514 - val_loss: 0.0454 - val_mae: 0.1090 - val_mse: 0.0454\n",
      "Epoch 33/100\n",
      "15/15 [==============================] - 24s 2s/step - loss: 0.0513 - mae: 0.1114 - mse: 0.0513 - val_loss: 0.0454 - val_mae: 0.1100 - val_mse: 0.0454\n",
      "Epoch 34/100\n",
      "15/15 [==============================] - 24s 2s/step - loss: 0.0514 - mae: 0.1116 - mse: 0.0514 - val_loss: 0.0454 - val_mae: 0.1092 - val_mse: 0.0454\n",
      "Epoch 35/100\n",
      "15/15 [==============================] - 25s 2s/step - loss: 0.0513 - mae: 0.1116 - mse: 0.0513 - val_loss: 0.0454 - val_mae: 0.1089 - val_mse: 0.0454\n",
      "Epoch 36/100\n",
      "15/15 [==============================] - 25s 2s/step - loss: 0.0514 - mae: 0.1123 - mse: 0.0514 - val_loss: 0.0455 - val_mae: 0.1105 - val_mse: 0.0455\n",
      "Epoch 37/100\n",
      "15/15 [==============================] - 24s 2s/step - loss: 0.0513 - mae: 0.1121 - mse: 0.0513 - val_loss: 0.0454 - val_mae: 0.1097 - val_mse: 0.0454\n",
      "Epoch 38/100\n",
      "15/15 [==============================] - 68s 5s/step - loss: 0.0513 - mae: 0.1120 - mse: 0.0513 - val_loss: 0.0453 - val_mae: 0.1090 - val_mse: 0.0453\n",
      "Epoch 39/100\n",
      "15/15 [==============================] - 24s 2s/step - loss: 0.0513 - mae: 0.1126 - mse: 0.0513 - val_loss: 0.0453 - val_mae: 0.1098 - val_mse: 0.0453\n",
      "Epoch 40/100\n",
      "15/15 [==============================] - 24s 2s/step - loss: 0.0512 - mae: 0.1126 - mse: 0.0512 - val_loss: 0.0453 - val_mae: 0.1110 - val_mse: 0.0453\n",
      "Epoch 41/100\n",
      "15/15 [==============================] - 24s 2s/step - loss: 0.0509 - mae: 0.1126 - mse: 0.0509 - val_loss: 0.0448 - val_mae: 0.1100 - val_mse: 0.0448\n",
      "Epoch 42/100\n",
      "15/15 [==============================] - 25s 2s/step - loss: 0.0513 - mae: 0.1176 - mse: 0.0513 - val_loss: 0.0449 - val_mae: 0.1127 - val_mse: 0.0449\n",
      "Epoch 43/100\n",
      "15/15 [==============================] - 25s 2s/step - loss: 0.0505 - mae: 0.1144 - mse: 0.0505 - val_loss: 0.0443 - val_mae: 0.1105 - val_mse: 0.0443\n",
      "Epoch 44/100\n",
      "15/15 [==============================] - 113s 2s/step - loss: 0.0500 - mae: 0.1127 - mse: 0.0500 - val_loss: 0.0440 - val_mae: 0.1099 - val_mse: 0.0440\n",
      "Epoch 45/100\n",
      "15/15 [==============================] - 25s 2s/step - loss: 0.0497 - mae: 0.1118 - mse: 0.0497 - val_loss: 0.0436 - val_mae: 0.1083 - val_mse: 0.0436\n",
      "Epoch 46/100\n",
      "15/15 [==============================] - 24s 2s/step - loss: 0.0493 - mae: 0.1110 - mse: 0.0493 - val_loss: 0.0433 - val_mae: 0.1078 - val_mse: 0.0433\n",
      "Epoch 47/100\n",
      "15/15 [==============================] - 25s 2s/step - loss: 0.0493 - mae: 0.1118 - mse: 0.0493 - val_loss: 0.0433 - val_mae: 0.1092 - val_mse: 0.0433\n",
      "Epoch 48/100\n",
      "15/15 [==============================] - 24s 2s/step - loss: 0.0491 - mae: 0.1115 - mse: 0.0491 - val_loss: 0.0430 - val_mae: 0.1081 - val_mse: 0.0430\n",
      "Epoch 49/100\n",
      "15/15 [==============================] - 59s 4s/step - loss: 0.0488 - mae: 0.1105 - mse: 0.0488 - val_loss: 0.0429 - val_mae: 0.1083 - val_mse: 0.0429\n",
      "Epoch 50/100\n",
      "15/15 [==============================] - 2690s 192s/step - loss: 0.0488 - mae: 0.1114 - mse: 0.0488 - val_loss: 0.0429 - val_mae: 0.1083 - val_mse: 0.0429\n",
      "Epoch 51/100\n",
      "15/15 [==============================] - 3032s 216s/step - loss: 0.0486 - mae: 0.1100 - mse: 0.0486 - val_loss: 0.0426 - val_mae: 0.1072 - val_mse: 0.0426\n",
      "Epoch 52/100\n",
      "15/15 [==============================] - 3851s 215s/step - loss: 0.0488 - mae: 0.1114 - mse: 0.0488 - val_loss: 0.0426 - val_mae: 0.1077 - val_mse: 0.0426\n",
      "Epoch 53/100\n",
      "15/15 [==============================] - 3067s 219s/step - loss: 0.0486 - mae: 0.1115 - mse: 0.0486 - val_loss: 0.0425 - val_mae: 0.1084 - val_mse: 0.0425\n",
      "Epoch 54/100\n",
      "15/15 [==============================] - 25s 2s/step - loss: 0.0483 - mae: 0.1102 - mse: 0.0483 - val_loss: 0.0422 - val_mae: 0.1071 - val_mse: 0.0422\n",
      "Epoch 55/100\n",
      "15/15 [==============================] - 24s 2s/step - loss: 0.0481 - mae: 0.1103 - mse: 0.0481 - val_loss: 0.0420 - val_mae: 0.1077 - val_mse: 0.0420\n",
      "Epoch 56/100\n",
      "15/15 [==============================] - 25s 2s/step - loss: 0.0481 - mae: 0.1110 - mse: 0.0481 - val_loss: 0.0418 - val_mae: 0.1069 - val_mse: 0.0418\n",
      "Epoch 57/100\n",
      "15/15 [==============================] - 28s 2s/step - loss: 0.0478 - mae: 0.1105 - mse: 0.0478 - val_loss: 0.0417 - val_mae: 0.1070 - val_mse: 0.0417\n",
      "Epoch 58/100\n",
      "15/15 [==============================] - 24s 2s/step - loss: 0.0476 - mae: 0.1098 - mse: 0.0476 - val_loss: 0.0422 - val_mae: 0.1110 - val_mse: 0.0422\n",
      "Epoch 59/100\n",
      "15/15 [==============================] - 28s 2s/step - loss: 0.0495 - mae: 0.1173 - mse: 0.0495 - val_loss: 0.0428 - val_mae: 0.1131 - val_mse: 0.0428\n",
      "Epoch 60/100\n",
      "15/15 [==============================] - 20s 1s/step - loss: 0.0482 - mae: 0.1128 - mse: 0.0482 - val_loss: 0.0419 - val_mae: 0.1084 - val_mse: 0.0419\n",
      "Epoch 61/100\n",
      "15/15 [==============================] - 20s 1s/step - loss: 0.0476 - mae: 0.1105 - mse: 0.0476 - val_loss: 0.0415 - val_mae: 0.1070 - val_mse: 0.0415\n",
      "Epoch 62/100\n",
      "15/15 [==============================] - 21s 1s/step - loss: 0.0474 - mae: 0.1096 - mse: 0.0474 - val_loss: 0.0414 - val_mae: 0.1066 - val_mse: 0.0414\n",
      "Epoch 63/100\n",
      "15/15 [==============================] - 21s 1s/step - loss: 0.0473 - mae: 0.1097 - mse: 0.0473 - val_loss: 0.0413 - val_mae: 0.1069 - val_mse: 0.0413\n",
      "Epoch 64/100\n",
      "15/15 [==============================] - 19s 1s/step - loss: 0.0471 - mae: 0.1095 - mse: 0.0471 - val_loss: 0.0413 - val_mae: 0.1066 - val_mse: 0.0413\n",
      "Epoch 65/100\n",
      "15/15 [==============================] - 19s 1s/step - loss: 0.0473 - mae: 0.1105 - mse: 0.0473 - val_loss: 0.0415 - val_mae: 0.1084 - val_mse: 0.0415\n",
      "Epoch 66/100\n",
      "15/15 [==============================] - 20s 1s/step - loss: 0.0471 - mae: 0.1106 - mse: 0.0471 - val_loss: 0.0415 - val_mae: 0.1082 - val_mse: 0.0415\n",
      "Epoch 67/100\n",
      "15/15 [==============================] - 22s 1s/step - loss: 0.0471 - mae: 0.1113 - mse: 0.0471 - val_loss: 0.0412 - val_mae: 0.1076 - val_mse: 0.0412\n",
      "Epoch 68/100\n",
      "15/15 [==============================] - 21s 1s/step - loss: 0.0471 - mae: 0.1113 - mse: 0.0471 - val_loss: 0.0411 - val_mae: 0.1068 - val_mse: 0.0411\n",
      "Epoch 69/100\n",
      "15/15 [==============================] - 21s 1s/step - loss: 0.0468 - mae: 0.1107 - mse: 0.0468 - val_loss: 0.0411 - val_mae: 0.1079 - val_mse: 0.0411\n",
      "Epoch 70/100\n",
      "15/15 [==============================] - 20s 1s/step - loss: 0.0468 - mae: 0.1110 - mse: 0.0468 - val_loss: 0.0411 - val_mae: 0.1073 - val_mse: 0.0411\n",
      "Epoch 71/100\n",
      "15/15 [==============================] - 20s 1s/step - loss: 0.0467 - mae: 0.1106 - mse: 0.0467 - val_loss: 0.0409 - val_mae: 0.1066 - val_mse: 0.0409\n",
      "Epoch 72/100\n",
      "15/15 [==============================] - 20s 1s/step - loss: 0.0463 - mae: 0.1098 - mse: 0.0463 - val_loss: 0.0407 - val_mae: 0.1070 - val_mse: 0.0407\n",
      "Epoch 73/100\n",
      "15/15 [==============================] - 20s 1s/step - loss: 0.0463 - mae: 0.1102 - mse: 0.0463 - val_loss: 0.0412 - val_mae: 0.1078 - val_mse: 0.0412\n",
      "Epoch 74/100\n",
      "15/15 [==============================] - 20s 1s/step - loss: 0.0466 - mae: 0.1121 - mse: 0.0466 - val_loss: 0.0409 - val_mae: 0.1093 - val_mse: 0.0409\n",
      "Epoch 75/100\n",
      "15/15 [==============================] - 20s 1s/step - loss: 0.0460 - mae: 0.1103 - mse: 0.0460 - val_loss: 0.0410 - val_mae: 0.1089 - val_mse: 0.0410\n",
      "Epoch 76/100\n",
      "15/15 [==============================] - 20s 1s/step - loss: 0.0460 - mae: 0.1101 - mse: 0.0460 - val_loss: 0.0417 - val_mae: 0.1100 - val_mse: 0.0417\n",
      "Epoch 77/100\n",
      "15/15 [==============================] - 19s 1s/step - loss: 0.0460 - mae: 0.1128 - mse: 0.0460 - val_loss: 0.0407 - val_mae: 0.1088 - val_mse: 0.0407\n",
      "Epoch 78/100\n",
      "15/15 [==============================] - 20s 1s/step - loss: 0.0454 - mae: 0.1105 - mse: 0.0454 - val_loss: 0.0420 - val_mae: 0.1144 - val_mse: 0.0420\n",
      "Epoch 79/100\n",
      "15/15 [==============================] - 20s 1s/step - loss: 0.0454 - mae: 0.1117 - mse: 0.0454 - val_loss: 0.0407 - val_mae: 0.1096 - val_mse: 0.0407\n",
      "Epoch 80/100\n",
      "15/15 [==============================] - 20s 1s/step - loss: 0.0445 - mae: 0.1102 - mse: 0.0445 - val_loss: 0.0413 - val_mae: 0.1124 - val_mse: 0.0413\n",
      "Epoch 81/100\n",
      "15/15 [==============================] - 21s 1s/step - loss: 0.0443 - mae: 0.1106 - mse: 0.0443 - val_loss: 0.0404 - val_mae: 0.1094 - val_mse: 0.0404\n",
      "Epoch 82/100\n",
      "15/15 [==============================] - 20s 1s/step - loss: 0.0434 - mae: 0.1090 - mse: 0.0434 - val_loss: 0.0409 - val_mae: 0.1099 - val_mse: 0.0409\n",
      "Epoch 83/100\n",
      "15/15 [==============================] - 20s 1s/step - loss: 0.0429 - mae: 0.1083 - mse: 0.0429 - val_loss: 0.0403 - val_mae: 0.1086 - val_mse: 0.0403\n",
      "Epoch 84/100\n",
      "15/15 [==============================] - 20s 1s/step - loss: 0.0426 - mae: 0.1081 - mse: 0.0426 - val_loss: 0.0400 - val_mae: 0.1081 - val_mse: 0.0400\n",
      "Epoch 85/100\n",
      "15/15 [==============================] - 20s 1s/step - loss: 0.0419 - mae: 0.1067 - mse: 0.0419 - val_loss: 0.0393 - val_mae: 0.1063 - val_mse: 0.0393\n",
      "Epoch 86/100\n",
      "15/15 [==============================] - 20s 1s/step - loss: 0.0415 - mae: 0.1057 - mse: 0.0415 - val_loss: 0.0402 - val_mae: 0.1087 - val_mse: 0.0402\n",
      "Epoch 87/100\n",
      "15/15 [==============================] - 20s 1s/step - loss: 0.0416 - mae: 0.1070 - mse: 0.0416 - val_loss: 0.0393 - val_mae: 0.1076 - val_mse: 0.0393\n",
      "Epoch 88/100\n",
      "15/15 [==============================] - 20s 1s/step - loss: 0.0412 - mae: 0.1058 - mse: 0.0412 - val_loss: 0.0401 - val_mae: 0.1091 - val_mse: 0.0401\n",
      "Epoch 89/100\n",
      "15/15 [==============================] - 20s 1s/step - loss: 0.0414 - mae: 0.1067 - mse: 0.0414 - val_loss: 0.0388 - val_mae: 0.1062 - val_mse: 0.0388\n",
      "Epoch 90/100\n",
      "15/15 [==============================] - 20s 1s/step - loss: 0.0402 - mae: 0.1038 - mse: 0.0402 - val_loss: 0.0390 - val_mae: 0.1053 - val_mse: 0.0390\n",
      "Epoch 91/100\n",
      "15/15 [==============================] - 20s 1s/step - loss: 0.0399 - mae: 0.1032 - mse: 0.0399 - val_loss: 0.0382 - val_mae: 0.1047 - val_mse: 0.0382\n",
      "Epoch 92/100\n",
      "15/15 [==============================] - 20s 1s/step - loss: 0.0399 - mae: 0.1035 - mse: 0.0399 - val_loss: 0.0381 - val_mae: 0.1046 - val_mse: 0.0381\n",
      "Epoch 93/100\n",
      "15/15 [==============================] - 20s 1s/step - loss: 0.0393 - mae: 0.1027 - mse: 0.0393 - val_loss: 0.0379 - val_mae: 0.1037 - val_mse: 0.0379\n",
      "Epoch 94/100\n",
      "15/15 [==============================] - 20s 1s/step - loss: 0.0389 - mae: 0.1015 - mse: 0.0389 - val_loss: 0.0375 - val_mae: 0.1026 - val_mse: 0.0375\n",
      "Epoch 95/100\n",
      "15/15 [==============================] - 20s 1s/step - loss: 0.0392 - mae: 0.1021 - mse: 0.0392 - val_loss: 0.0378 - val_mae: 0.1043 - val_mse: 0.0378\n",
      "Epoch 96/100\n",
      "15/15 [==============================] - 20s 1s/step - loss: 0.0398 - mae: 0.1039 - mse: 0.0398 - val_loss: 0.0383 - val_mae: 0.1059 - val_mse: 0.0383\n",
      "Epoch 97/100\n",
      "15/15 [==============================] - 20s 1s/step - loss: 0.0389 - mae: 0.1027 - mse: 0.0389 - val_loss: 0.0383 - val_mae: 0.1049 - val_mse: 0.0383\n",
      "Epoch 98/100\n",
      "15/15 [==============================] - 20s 1s/step - loss: 0.0380 - mae: 0.1000 - mse: 0.0380 - val_loss: 0.0379 - val_mae: 0.1044 - val_mse: 0.0379\n",
      "Epoch 99/100\n",
      "15/15 [==============================] - 20s 1s/step - loss: 0.0374 - mae: 0.0990 - mse: 0.0374 - val_loss: 0.0365 - val_mae: 0.1001 - val_mse: 0.0365\n",
      "Epoch 100/100\n",
      "15/15 [==============================] - 21s 1s/step - loss: 0.0371 - mae: 0.0982 - mse: 0.0371 - val_loss: 0.0363 - val_mae: 0.1002 - val_mse: 0.0363\n"
     ]
    }
   ],
   "source": [
    "encoder_decoder_history = model_GRU.fit(x_train, x_train, \n",
    "                                              batch_size=512, \n",
    "                                              epochs=100,\n",
    "                                              validation_data=(x_test, x_test),\n",
    "                                              callbacks=[early_stop])"
   ]
  },
  {
   "cell_type": "code",
   "execution_count": 19,
   "id": "19537030",
   "metadata": {},
   "outputs": [],
   "source": [
    "X_train = encoder_GRU(x_train)\n",
    "X_test = encoder_GRU(x_test)"
   ]
  },
  {
   "cell_type": "code",
   "execution_count": 20,
   "id": "54c0345b",
   "metadata": {},
   "outputs": [
    {
     "name": "stdout",
     "output_type": "stream",
     "text": [
      "Encoded X_train shape is:  (7352, 50)\n",
      "Encoded X_test shape is:  (2947, 50)\n"
     ]
    }
   ],
   "source": [
    "print('Encoded X_train shape is: ', X_train.shape)\n",
    "print('Encoded X_test shape is: ', X_test.shape)"
   ]
  },
  {
   "cell_type": "code",
   "execution_count": 22,
   "id": "c3d371d1",
   "metadata": {},
   "outputs": [],
   "source": [
    "from sklearn.ensemble import RandomForestClassifier\n",
    "\n",
    "def rf(x_train, y_train, n_estimators=300):\n",
    " rndforest = RandomForestClassifier(n_estimators=n_estimators, n_jobs=-1)\n",
    " rndforest.fit(x_train, y_train)\n",
    " return rndforest "
   ]
  },
  {
   "cell_type": "code",
   "execution_count": 23,
   "id": "08430509",
   "metadata": {},
   "outputs": [],
   "source": [
    "random_forest_en = rf(X_train,y_train, n_estimators=300)"
   ]
  },
  {
   "cell_type": "code",
   "execution_count": 24,
   "id": "f432c214",
   "metadata": {},
   "outputs": [
    {
     "name": "stdout",
     "output_type": "stream",
     "text": [
      "Training accuracy: 1.0\n",
      "Validation accuracy 0.8781812012215813\n"
     ]
    }
   ],
   "source": [
    "print(\"Training accuracy:\", random_forest_en.score(X_train, y_train))\n",
    "print(\"Validation accuracy\", random_forest_en.score(X_test, y_test))"
   ]
  },
  {
   "cell_type": "code",
   "execution_count": 25,
   "id": "b208e062",
   "metadata": {},
   "outputs": [],
   "source": [
    "import matplotlib.pyplot as plt\n",
    "import itertools\n",
    "def plot_confusion_matrix(model, X, y, class_names, file_name,\n",
    "                          normalize=False,\n",
    "                          title='Confusion matrix',\n",
    "                          cmap=plt.cm.Greys):\n",
    "    y_pred = model.predict(X)\n",
    "    # Compute confusion matrix\n",
    "    cnf_matrix  = confusion_matrix(y, y_pred)\n",
    "    np.set_printoptions(precision=1)\n",
    "    plt.figure(figsize=(18, 16))\n",
    "\n",
    "    if normalize:\n",
    "        cnf_matrix = cnf_matrix.astype('float') / cnf_matrix.sum(axis=1)[:, np.newaxis]\n",
    "        print(\"MATRIZ DE CONFUSIÓN\")\n",
    "    else:\n",
    "        print('MATRIZ DE CONFUSIÓN')\n",
    "\n",
    "    plt.imshow(cnf_matrix, interpolation='nearest', cmap=cmap)\n",
    "    plt.title('MATRIZ DE CONFUSIÓN')\n",
    "    plt.colorbar()\n",
    "    tick_marks = np.arange(len(class_names))\n",
    "    plt.xticks(tick_marks, class_names, rotation=90)\n",
    "    plt.yticks(tick_marks, class_names)\n",
    "\n",
    "    fmt = '.2f' if normalize else 'd'\n",
    "    thresh = cnf_matrix.max() / 2.\n",
    "    for i, j in itertools.product(range(cnf_matrix.shape[0]), range(cnf_matrix.shape[1])):\n",
    "        plt.text(j, i, format(cnf_matrix[i, j], fmt),\n",
    "                 horizontalalignment=\"center\",\n",
    "                 color=\"white\" if cnf_matrix[i, j] > thresh else \"black\")\n",
    "\n",
    "    plt.ylabel('ACCIONES (CLASES)')\n",
    "    plt.xlabel('CLASE PREDICHA')\n",
    "    plt.tight_layout()\n",
    "    plt.savefig(file_name+'.png')\n",
    "    plt.show()"
   ]
  },
  {
   "cell_type": "code",
   "execution_count": 26,
   "id": "2ab69b55",
   "metadata": {},
   "outputs": [
    {
     "name": "stdout",
     "output_type": "stream",
     "text": [
      "MATRIZ DE CONFUSIÓN\n"
     ]
    },
    {
     "data": {
      "image/png": "[encoded data removed]",
      "text/plain": [
       "<Figure size 1800x1600 with 2 Axes>"
      ]
     },
     "metadata": {},
     "output_type": "display_data"
    }
   ],
   "source": [
    "from sklearn.metrics import confusion_matrix\n",
    "\n",
    "plot_confusion_matrix(random_forest_en, X_test, y_test, class_names=LABELS, file_name='ConfussionMatrix', normalize=True)"
   ]
  },
  {
   "cell_type": "code",
   "execution_count": null,
   "id": "4860c390",
   "metadata": {},
   "outputs": [],
   "source": []
  }
 ],
 "metadata": {
  "kernelspec": {
   "display_name": "Python 3 (ipykernel)",
   "language": "python",
   "name": "python3"
  },
  "language_info": {
   "codemirror_mode": {
    "name": "ipython",
    "version": 3
   },
   "file_extension": ".py",
   "mimetype": "text/x-python",
   "name": "python",
   "nbconvert_exporter": "python",
   "pygments_lexer": "ipython3",
   "version": "3.9.13"
  }
 },
 "nbformat": 4,
 "nbformat_minor": 5
}
