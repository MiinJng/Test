{
 "cells": [
  {
   "cell_type": "code",
   "execution_count": 1,
   "id": "2719dfe3",
   "metadata": {},
   "outputs": [],
   "source": [
    "from numpy import expand_dims\n",
    "from numpy import zeros\n",
    "from numpy import ones\n",
    "from numpy import asarray\n",
    "from numpy.random import randn\n",
    "from numpy.random import randint\n",
    "from keras.datasets.mnist import load_data\n",
    "from tensorflow.keras.optimizers import Adam\n",
    "from keras.models import Model\n",
    "from keras.layers import Input\n",
    "from keras.layers import Dense\n",
    "from keras.layers import Reshape\n",
    "from keras.layers import Flatten\n",
    "from keras.layers import Conv2D\n",
    "from keras.layers import Conv2DTranspose\n",
    "from keras.layers import LeakyReLU\n",
    "from keras.layers import Dropout\n",
    "from keras.layers import Lambda\n",
    "from keras.layers import Activation\n",
    "from matplotlib import pyplot\n",
    "from keras import backend\n",
    "\n",
    "import tensorflow as tf\n",
    "import pandas as pd\n",
    "import numpy as np\n",
    "import glob\n",
    "import os\n",
    "from tensorflow.keras.utils import to_categorical"
   ]
  },
  {
   "cell_type": "code",
   "execution_count": 2,
   "id": "57522a93",
   "metadata": {},
   "outputs": [],
   "source": [
    "import pandas as pd\n",
    "import numpy as np\n",
    "import os\n",
    "import matplotlib.pyplot as plt\n",
    "from sklearn.preprocessing import StandardScaler\n",
    "import seaborn as sns\n",
    "import matplotlib.pyplot as plt"
   ]
  },
  {
   "cell_type": "code",
   "execution_count": 3,
   "id": "4c1dbcd4",
   "metadata": {},
   "outputs": [],
   "source": [
    "from sklearn.linear_model import LogisticRegression\n",
    "from sklearn.tree import DecisionTreeClassifier\n",
    "from sklearn.neighbors import KNeighborsClassifier\n",
    "from sklearn.model_selection import train_test_split\n",
    "from sklearn.metrics import accuracy_score\n",
    "from sklearn.model_selection import cross_val_score\n",
    "from sklearn.preprocessing import OneHotEncoder\n",
    "from sklearn.preprocessing import scale\n",
    "\n",
    "\n",
    "import numpy as np\n",
    "import pandas as pd"
   ]
  },
  {
   "cell_type": "code",
   "execution_count": 4,
   "id": "ac6ab33d",
   "metadata": {},
   "outputs": [],
   "source": [
    "import tensorflow as tf\n",
    "from tensorflow.keras import Sequential\n",
    "from tensorflow.keras.layers import Flatten, Dense, Dropout, BatchNormalization\n",
    "from tensorflow.keras.layers import Conv2D, MaxPool2D\n",
    "from tensorflow.keras.optimizers import Adam"
   ]
  },
  {
   "cell_type": "code",
   "execution_count": 5,
   "id": "f385d17d",
   "metadata": {},
   "outputs": [],
   "source": [
    "import pandas as pd\n",
    "import numpy as np\n",
    "import matplotlib.pyplot as plt\n",
    "from sklearn.model_selection import train_test_split\n",
    "from sklearn.preprocessing import StandardScaler, LabelEncoder"
   ]
  },
  {
   "cell_type": "code",
   "execution_count": 6,
   "id": "5d3ecd4c",
   "metadata": {},
   "outputs": [
    {
     "data": {
      "text/html": [
       "<div>\n",
       "<style scoped>\n",
       "    .dataframe tbody tr th:only-of-type {\n",
       "        vertical-align: middle;\n",
       "    }\n",
       "\n",
       "    .dataframe tbody tr th {\n",
       "        vertical-align: top;\n",
       "    }\n",
       "\n",
       "    .dataframe thead th {\n",
       "        text-align: right;\n",
       "    }\n",
       "</style>\n",
       "<table border=\"1\" class=\"dataframe\">\n",
       "  <thead>\n",
       "    <tr style=\"text-align: right;\">\n",
       "      <th></th>\n",
       "      <th>timestamp</th>\n",
       "      <th>activityID</th>\n",
       "      <th>heartrate</th>\n",
       "      <th>handTemperature</th>\n",
       "      <th>handAcc16_1</th>\n",
       "      <th>handAcc16_2</th>\n",
       "      <th>handAcc16_3</th>\n",
       "      <th>handAcc6_1</th>\n",
       "      <th>handAcc6_2</th>\n",
       "      <th>handAcc6_3</th>\n",
       "      <th>...</th>\n",
       "      <th>ankleGyro2</th>\n",
       "      <th>ankleGyro3</th>\n",
       "      <th>ankleMagne1</th>\n",
       "      <th>ankleMagne2</th>\n",
       "      <th>ankleMagne3</th>\n",
       "      <th>ankleOrientation1</th>\n",
       "      <th>ankleOrientation2</th>\n",
       "      <th>ankleOrientation3</th>\n",
       "      <th>ankleOrientation4</th>\n",
       "      <th>subject_id</th>\n",
       "    </tr>\n",
       "  </thead>\n",
       "  <tbody>\n",
       "    <tr>\n",
       "      <th>2932</th>\n",
       "      <td>37.70</td>\n",
       "      <td>1</td>\n",
       "      <td>100.0</td>\n",
       "      <td>30.3750</td>\n",
       "      <td>2.301060</td>\n",
       "      <td>7.25857</td>\n",
       "      <td>6.09259</td>\n",
       "      <td>2.207200</td>\n",
       "      <td>7.24042</td>\n",
       "      <td>5.95555</td>\n",
       "      <td>...</td>\n",
       "      <td>-0.048878</td>\n",
       "      <td>-0.006328</td>\n",
       "      <td>-60.2040</td>\n",
       "      <td>-37.1225</td>\n",
       "      <td>-57.8847</td>\n",
       "      <td>1.000000</td>\n",
       "      <td>0.000000</td>\n",
       "      <td>0.000000</td>\n",
       "      <td>0.000000</td>\n",
       "      <td>1</td>\n",
       "    </tr>\n",
       "    <tr>\n",
       "      <th>2943</th>\n",
       "      <td>37.81</td>\n",
       "      <td>1</td>\n",
       "      <td>100.0</td>\n",
       "      <td>30.3750</td>\n",
       "      <td>2.246150</td>\n",
       "      <td>7.48180</td>\n",
       "      <td>5.55219</td>\n",
       "      <td>2.251300</td>\n",
       "      <td>7.40595</td>\n",
       "      <td>5.65313</td>\n",
       "      <td>...</td>\n",
       "      <td>-0.017912</td>\n",
       "      <td>0.015243</td>\n",
       "      <td>-60.7820</td>\n",
       "      <td>-36.2116</td>\n",
       "      <td>-58.4891</td>\n",
       "      <td>1.000000</td>\n",
       "      <td>0.000000</td>\n",
       "      <td>0.000000</td>\n",
       "      <td>0.000000</td>\n",
       "      <td>1</td>\n",
       "    </tr>\n",
       "    <tr>\n",
       "      <th>2954</th>\n",
       "      <td>37.92</td>\n",
       "      <td>1</td>\n",
       "      <td>100.0</td>\n",
       "      <td>30.3750</td>\n",
       "      <td>2.300000</td>\n",
       "      <td>7.10681</td>\n",
       "      <td>6.09309</td>\n",
       "      <td>2.346130</td>\n",
       "      <td>7.46611</td>\n",
       "      <td>6.12103</td>\n",
       "      <td>...</td>\n",
       "      <td>-0.011798</td>\n",
       "      <td>0.011387</td>\n",
       "      <td>-61.4531</td>\n",
       "      <td>-36.2983</td>\n",
       "      <td>-58.4845</td>\n",
       "      <td>1.000000</td>\n",
       "      <td>0.000000</td>\n",
       "      <td>0.000000</td>\n",
       "      <td>0.000000</td>\n",
       "      <td>1</td>\n",
       "    </tr>\n",
       "    <tr>\n",
       "      <th>2965</th>\n",
       "      <td>38.03</td>\n",
       "      <td>1</td>\n",
       "      <td>100.0</td>\n",
       "      <td>30.3750</td>\n",
       "      <td>2.494550</td>\n",
       "      <td>7.52335</td>\n",
       "      <td>6.17157</td>\n",
       "      <td>2.591060</td>\n",
       "      <td>7.76653</td>\n",
       "      <td>6.27112</td>\n",
       "      <td>...</td>\n",
       "      <td>-0.009233</td>\n",
       "      <td>0.005823</td>\n",
       "      <td>-62.0065</td>\n",
       "      <td>-36.7217</td>\n",
       "      <td>-58.3608</td>\n",
       "      <td>1.000000</td>\n",
       "      <td>0.000000</td>\n",
       "      <td>0.000000</td>\n",
       "      <td>0.000000</td>\n",
       "      <td>1</td>\n",
       "    </tr>\n",
       "    <tr>\n",
       "      <th>2976</th>\n",
       "      <td>38.14</td>\n",
       "      <td>1</td>\n",
       "      <td>101.0</td>\n",
       "      <td>30.3750</td>\n",
       "      <td>2.716540</td>\n",
       "      <td>8.30596</td>\n",
       "      <td>4.78671</td>\n",
       "      <td>2.595960</td>\n",
       "      <td>7.94641</td>\n",
       "      <td>4.86635</td>\n",
       "      <td>...</td>\n",
       "      <td>-0.042562</td>\n",
       "      <td>-0.009289</td>\n",
       "      <td>-60.4311</td>\n",
       "      <td>-37.5412</td>\n",
       "      <td>-59.0013</td>\n",
       "      <td>1.000000</td>\n",
       "      <td>0.000000</td>\n",
       "      <td>0.000000</td>\n",
       "      <td>0.000000</td>\n",
       "      <td>1</td>\n",
       "    </tr>\n",
       "    <tr>\n",
       "      <th>...</th>\n",
       "      <td>...</td>\n",
       "      <td>...</td>\n",
       "      <td>...</td>\n",
       "      <td>...</td>\n",
       "      <td>...</td>\n",
       "      <td>...</td>\n",
       "      <td>...</td>\n",
       "      <td>...</td>\n",
       "      <td>...</td>\n",
       "      <td>...</td>\n",
       "      <td>...</td>\n",
       "      <td>...</td>\n",
       "      <td>...</td>\n",
       "      <td>...</td>\n",
       "      <td>...</td>\n",
       "      <td>...</td>\n",
       "      <td>...</td>\n",
       "      <td>...</td>\n",
       "      <td>...</td>\n",
       "      <td>...</td>\n",
       "      <td>...</td>\n",
       "    </tr>\n",
       "    <tr>\n",
       "      <th>2818402</th>\n",
       "      <td>3629.66</td>\n",
       "      <td>5</td>\n",
       "      <td>195.0</td>\n",
       "      <td>30.8125</td>\n",
       "      <td>0.565086</td>\n",
       "      <td>2.59595</td>\n",
       "      <td>9.27677</td>\n",
       "      <td>0.660681</td>\n",
       "      <td>2.70904</td>\n",
       "      <td>9.44024</td>\n",
       "      <td>...</td>\n",
       "      <td>-0.002287</td>\n",
       "      <td>-0.017737</td>\n",
       "      <td>-17.6912</td>\n",
       "      <td>12.0079</td>\n",
       "      <td>26.5782</td>\n",
       "      <td>0.164776</td>\n",
       "      <td>0.798149</td>\n",
       "      <td>0.227263</td>\n",
       "      <td>0.533065</td>\n",
       "      <td>8</td>\n",
       "    </tr>\n",
       "    <tr>\n",
       "      <th>2818413</th>\n",
       "      <td>3629.77</td>\n",
       "      <td>5</td>\n",
       "      <td>195.0</td>\n",
       "      <td>30.8125</td>\n",
       "      <td>0.570697</td>\n",
       "      <td>2.82459</td>\n",
       "      <td>9.39155</td>\n",
       "      <td>0.495537</td>\n",
       "      <td>2.75557</td>\n",
       "      <td>9.47051</td>\n",
       "      <td>...</td>\n",
       "      <td>-0.007246</td>\n",
       "      <td>0.007512</td>\n",
       "      <td>-17.6928</td>\n",
       "      <td>12.0076</td>\n",
       "      <td>26.4364</td>\n",
       "      <td>0.166393</td>\n",
       "      <td>0.797223</td>\n",
       "      <td>0.228965</td>\n",
       "      <td>0.533221</td>\n",
       "      <td>8</td>\n",
       "    </tr>\n",
       "    <tr>\n",
       "      <th>2818423</th>\n",
       "      <td>3629.87</td>\n",
       "      <td>5</td>\n",
       "      <td>195.0</td>\n",
       "      <td>30.8125</td>\n",
       "      <td>0.756704</td>\n",
       "      <td>2.78452</td>\n",
       "      <td>9.31749</td>\n",
       "      <td>0.781122</td>\n",
       "      <td>2.72325</td>\n",
       "      <td>9.40988</td>\n",
       "      <td>...</td>\n",
       "      <td>0.003818</td>\n",
       "      <td>0.017649</td>\n",
       "      <td>-17.9459</td>\n",
       "      <td>11.7619</td>\n",
       "      <td>26.1521</td>\n",
       "      <td>0.166735</td>\n",
       "      <td>0.797039</td>\n",
       "      <td>0.229771</td>\n",
       "      <td>0.533041</td>\n",
       "      <td>8</td>\n",
       "    </tr>\n",
       "    <tr>\n",
       "      <th>2818435</th>\n",
       "      <td>3629.99</td>\n",
       "      <td>5</td>\n",
       "      <td>195.0</td>\n",
       "      <td>30.8125</td>\n",
       "      <td>0.530504</td>\n",
       "      <td>2.67279</td>\n",
       "      <td>9.35297</td>\n",
       "      <td>0.540382</td>\n",
       "      <td>2.87591</td>\n",
       "      <td>9.30409</td>\n",
       "      <td>...</td>\n",
       "      <td>-0.003649</td>\n",
       "      <td>-0.002610</td>\n",
       "      <td>-18.2103</td>\n",
       "      <td>12.4200</td>\n",
       "      <td>26.5759</td>\n",
       "      <td>0.168936</td>\n",
       "      <td>0.795763</td>\n",
       "      <td>0.231222</td>\n",
       "      <td>0.533628</td>\n",
       "      <td>8</td>\n",
       "    </tr>\n",
       "    <tr>\n",
       "      <th>2818445</th>\n",
       "      <td>3630.09</td>\n",
       "      <td>5</td>\n",
       "      <td>195.0</td>\n",
       "      <td>30.8125</td>\n",
       "      <td>0.644139</td>\n",
       "      <td>2.70986</td>\n",
       "      <td>9.35454</td>\n",
       "      <td>0.630675</td>\n",
       "      <td>2.81489</td>\n",
       "      <td>9.34943</td>\n",
       "      <td>...</td>\n",
       "      <td>-0.009639</td>\n",
       "      <td>0.006757</td>\n",
       "      <td>-18.0830</td>\n",
       "      <td>12.2841</td>\n",
       "      <td>26.2929</td>\n",
       "      <td>0.170868</td>\n",
       "      <td>0.795143</td>\n",
       "      <td>0.232727</td>\n",
       "      <td>0.533282</td>\n",
       "      <td>8</td>\n",
       "    </tr>\n",
       "  </tbody>\n",
       "</table>\n",
       "<p>118516 rows × 55 columns</p>\n",
       "</div>"
      ],
      "text/plain": [
       "         timestamp  activityID  heartrate  handTemperature  handAcc16_1  \\\n",
       "2932         37.70           1      100.0          30.3750     2.301060   \n",
       "2943         37.81           1      100.0          30.3750     2.246150   \n",
       "2954         37.92           1      100.0          30.3750     2.300000   \n",
       "2965         38.03           1      100.0          30.3750     2.494550   \n",
       "2976         38.14           1      101.0          30.3750     2.716540   \n",
       "...            ...         ...        ...              ...          ...   \n",
       "2818402    3629.66           5      195.0          30.8125     0.565086   \n",
       "2818413    3629.77           5      195.0          30.8125     0.570697   \n",
       "2818423    3629.87           5      195.0          30.8125     0.756704   \n",
       "2818435    3629.99           5      195.0          30.8125     0.530504   \n",
       "2818445    3630.09           5      195.0          30.8125     0.644139   \n",
       "\n",
       "         handAcc16_2  handAcc16_3  handAcc6_1  handAcc6_2  handAcc6_3  ...  \\\n",
       "2932         7.25857      6.09259    2.207200     7.24042     5.95555  ...   \n",
       "2943         7.48180      5.55219    2.251300     7.40595     5.65313  ...   \n",
       "2954         7.10681      6.09309    2.346130     7.46611     6.12103  ...   \n",
       "2965         7.52335      6.17157    2.591060     7.76653     6.27112  ...   \n",
       "2976         8.30596      4.78671    2.595960     7.94641     4.86635  ...   \n",
       "...              ...          ...         ...         ...         ...  ...   \n",
       "2818402      2.59595      9.27677    0.660681     2.70904     9.44024  ...   \n",
       "2818413      2.82459      9.39155    0.495537     2.75557     9.47051  ...   \n",
       "2818423      2.78452      9.31749    0.781122     2.72325     9.40988  ...   \n",
       "2818435      2.67279      9.35297    0.540382     2.87591     9.30409  ...   \n",
       "2818445      2.70986      9.35454    0.630675     2.81489     9.34943  ...   \n",
       "\n",
       "         ankleGyro2  ankleGyro3  ankleMagne1  ankleMagne2  ankleMagne3  \\\n",
       "2932      -0.048878   -0.006328     -60.2040     -37.1225     -57.8847   \n",
       "2943      -0.017912    0.015243     -60.7820     -36.2116     -58.4891   \n",
       "2954      -0.011798    0.011387     -61.4531     -36.2983     -58.4845   \n",
       "2965      -0.009233    0.005823     -62.0065     -36.7217     -58.3608   \n",
       "2976      -0.042562   -0.009289     -60.4311     -37.5412     -59.0013   \n",
       "...             ...         ...          ...          ...          ...   \n",
       "2818402   -0.002287   -0.017737     -17.6912      12.0079      26.5782   \n",
       "2818413   -0.007246    0.007512     -17.6928      12.0076      26.4364   \n",
       "2818423    0.003818    0.017649     -17.9459      11.7619      26.1521   \n",
       "2818435   -0.003649   -0.002610     -18.2103      12.4200      26.5759   \n",
       "2818445   -0.009639    0.006757     -18.0830      12.2841      26.2929   \n",
       "\n",
       "         ankleOrientation1  ankleOrientation2  ankleOrientation3  \\\n",
       "2932              1.000000           0.000000           0.000000   \n",
       "2943              1.000000           0.000000           0.000000   \n",
       "2954              1.000000           0.000000           0.000000   \n",
       "2965              1.000000           0.000000           0.000000   \n",
       "2976              1.000000           0.000000           0.000000   \n",
       "...                    ...                ...                ...   \n",
       "2818402           0.164776           0.798149           0.227263   \n",
       "2818413           0.166393           0.797223           0.228965   \n",
       "2818423           0.166735           0.797039           0.229771   \n",
       "2818435           0.168936           0.795763           0.231222   \n",
       "2818445           0.170868           0.795143           0.232727   \n",
       "\n",
       "         ankleOrientation4  subject_id  \n",
       "2932              0.000000           1  \n",
       "2943              0.000000           1  \n",
       "2954              0.000000           1  \n",
       "2965              0.000000           1  \n",
       "2976              0.000000           1  \n",
       "...                    ...         ...  \n",
       "2818402           0.533065           8  \n",
       "2818413           0.533221           8  \n",
       "2818423           0.533041           8  \n",
       "2818435           0.533628           8  \n",
       "2818445           0.533282           8  \n",
       "\n",
       "[118516 rows x 55 columns]"
      ]
     },
     "execution_count": 6,
     "metadata": {},
     "output_type": "execute_result"
    }
   ],
   "source": [
    "features = pd.read_csv(\"/Users/minjeong/Downloads/pamap2.csv\", index_col=0)\n",
    "features"
   ]
  },
  {
   "cell_type": "code",
   "execution_count": 7,
   "id": "6e281bb5",
   "metadata": {},
   "outputs": [
    {
     "data": {
      "text/html": [
       "<div>\n",
       "<style scoped>\n",
       "    .dataframe tbody tr th:only-of-type {\n",
       "        vertical-align: middle;\n",
       "    }\n",
       "\n",
       "    .dataframe tbody tr th {\n",
       "        vertical-align: top;\n",
       "    }\n",
       "\n",
       "    .dataframe thead th {\n",
       "        text-align: right;\n",
       "    }\n",
       "</style>\n",
       "<table border=\"1\" class=\"dataframe\">\n",
       "  <thead>\n",
       "    <tr style=\"text-align: right;\">\n",
       "      <th></th>\n",
       "      <th>timestamp</th>\n",
       "      <th>activityID</th>\n",
       "      <th>heartrate</th>\n",
       "      <th>handTemperature</th>\n",
       "      <th>handAcc16_1</th>\n",
       "      <th>handAcc16_2</th>\n",
       "      <th>handAcc16_3</th>\n",
       "      <th>handAcc6_1</th>\n",
       "      <th>handAcc6_2</th>\n",
       "      <th>handAcc6_3</th>\n",
       "      <th>...</th>\n",
       "      <th>ankleGyro2</th>\n",
       "      <th>ankleGyro3</th>\n",
       "      <th>ankleMagne1</th>\n",
       "      <th>ankleMagne2</th>\n",
       "      <th>ankleMagne3</th>\n",
       "      <th>ankleOrientation1</th>\n",
       "      <th>ankleOrientation2</th>\n",
       "      <th>ankleOrientation3</th>\n",
       "      <th>ankleOrientation4</th>\n",
       "      <th>subject_id</th>\n",
       "    </tr>\n",
       "  </thead>\n",
       "  <tbody>\n",
       "    <tr>\n",
       "      <th>2932</th>\n",
       "      <td>37.70</td>\n",
       "      <td>0</td>\n",
       "      <td>100.0</td>\n",
       "      <td>30.375</td>\n",
       "      <td>2.30106</td>\n",
       "      <td>7.25857</td>\n",
       "      <td>6.09259</td>\n",
       "      <td>2.20720</td>\n",
       "      <td>7.24042</td>\n",
       "      <td>5.95555</td>\n",
       "      <td>...</td>\n",
       "      <td>-0.048878</td>\n",
       "      <td>-0.006328</td>\n",
       "      <td>-60.2040</td>\n",
       "      <td>-37.1225</td>\n",
       "      <td>-57.8847</td>\n",
       "      <td>1.0</td>\n",
       "      <td>0.0</td>\n",
       "      <td>0.0</td>\n",
       "      <td>0.0</td>\n",
       "      <td>1</td>\n",
       "    </tr>\n",
       "    <tr>\n",
       "      <th>2943</th>\n",
       "      <td>37.81</td>\n",
       "      <td>0</td>\n",
       "      <td>100.0</td>\n",
       "      <td>30.375</td>\n",
       "      <td>2.24615</td>\n",
       "      <td>7.48180</td>\n",
       "      <td>5.55219</td>\n",
       "      <td>2.25130</td>\n",
       "      <td>7.40595</td>\n",
       "      <td>5.65313</td>\n",
       "      <td>...</td>\n",
       "      <td>-0.017912</td>\n",
       "      <td>0.015243</td>\n",
       "      <td>-60.7820</td>\n",
       "      <td>-36.2116</td>\n",
       "      <td>-58.4891</td>\n",
       "      <td>1.0</td>\n",
       "      <td>0.0</td>\n",
       "      <td>0.0</td>\n",
       "      <td>0.0</td>\n",
       "      <td>1</td>\n",
       "    </tr>\n",
       "    <tr>\n",
       "      <th>2954</th>\n",
       "      <td>37.92</td>\n",
       "      <td>0</td>\n",
       "      <td>100.0</td>\n",
       "      <td>30.375</td>\n",
       "      <td>2.30000</td>\n",
       "      <td>7.10681</td>\n",
       "      <td>6.09309</td>\n",
       "      <td>2.34613</td>\n",
       "      <td>7.46611</td>\n",
       "      <td>6.12103</td>\n",
       "      <td>...</td>\n",
       "      <td>-0.011798</td>\n",
       "      <td>0.011387</td>\n",
       "      <td>-61.4531</td>\n",
       "      <td>-36.2983</td>\n",
       "      <td>-58.4845</td>\n",
       "      <td>1.0</td>\n",
       "      <td>0.0</td>\n",
       "      <td>0.0</td>\n",
       "      <td>0.0</td>\n",
       "      <td>1</td>\n",
       "    </tr>\n",
       "    <tr>\n",
       "      <th>2965</th>\n",
       "      <td>38.03</td>\n",
       "      <td>0</td>\n",
       "      <td>100.0</td>\n",
       "      <td>30.375</td>\n",
       "      <td>2.49455</td>\n",
       "      <td>7.52335</td>\n",
       "      <td>6.17157</td>\n",
       "      <td>2.59106</td>\n",
       "      <td>7.76653</td>\n",
       "      <td>6.27112</td>\n",
       "      <td>...</td>\n",
       "      <td>-0.009233</td>\n",
       "      <td>0.005823</td>\n",
       "      <td>-62.0065</td>\n",
       "      <td>-36.7217</td>\n",
       "      <td>-58.3608</td>\n",
       "      <td>1.0</td>\n",
       "      <td>0.0</td>\n",
       "      <td>0.0</td>\n",
       "      <td>0.0</td>\n",
       "      <td>1</td>\n",
       "    </tr>\n",
       "    <tr>\n",
       "      <th>2976</th>\n",
       "      <td>38.14</td>\n",
       "      <td>0</td>\n",
       "      <td>101.0</td>\n",
       "      <td>30.375</td>\n",
       "      <td>2.71654</td>\n",
       "      <td>8.30596</td>\n",
       "      <td>4.78671</td>\n",
       "      <td>2.59596</td>\n",
       "      <td>7.94641</td>\n",
       "      <td>4.86635</td>\n",
       "      <td>...</td>\n",
       "      <td>-0.042562</td>\n",
       "      <td>-0.009289</td>\n",
       "      <td>-60.4311</td>\n",
       "      <td>-37.5412</td>\n",
       "      <td>-59.0013</td>\n",
       "      <td>1.0</td>\n",
       "      <td>0.0</td>\n",
       "      <td>0.0</td>\n",
       "      <td>0.0</td>\n",
       "      <td>1</td>\n",
       "    </tr>\n",
       "  </tbody>\n",
       "</table>\n",
       "<p>5 rows × 55 columns</p>\n",
       "</div>"
      ],
      "text/plain": [
       "      timestamp  activityID  heartrate  handTemperature  handAcc16_1  \\\n",
       "2932      37.70           0      100.0           30.375      2.30106   \n",
       "2943      37.81           0      100.0           30.375      2.24615   \n",
       "2954      37.92           0      100.0           30.375      2.30000   \n",
       "2965      38.03           0      100.0           30.375      2.49455   \n",
       "2976      38.14           0      101.0           30.375      2.71654   \n",
       "\n",
       "      handAcc16_2  handAcc16_3  handAcc6_1  handAcc6_2  handAcc6_3  ...  \\\n",
       "2932      7.25857      6.09259     2.20720     7.24042     5.95555  ...   \n",
       "2943      7.48180      5.55219     2.25130     7.40595     5.65313  ...   \n",
       "2954      7.10681      6.09309     2.34613     7.46611     6.12103  ...   \n",
       "2965      7.52335      6.17157     2.59106     7.76653     6.27112  ...   \n",
       "2976      8.30596      4.78671     2.59596     7.94641     4.86635  ...   \n",
       "\n",
       "      ankleGyro2  ankleGyro3  ankleMagne1  ankleMagne2  ankleMagne3  \\\n",
       "2932   -0.048878   -0.006328     -60.2040     -37.1225     -57.8847   \n",
       "2943   -0.017912    0.015243     -60.7820     -36.2116     -58.4891   \n",
       "2954   -0.011798    0.011387     -61.4531     -36.2983     -58.4845   \n",
       "2965   -0.009233    0.005823     -62.0065     -36.7217     -58.3608   \n",
       "2976   -0.042562   -0.009289     -60.4311     -37.5412     -59.0013   \n",
       "\n",
       "      ankleOrientation1  ankleOrientation2  ankleOrientation3  \\\n",
       "2932                1.0                0.0                0.0   \n",
       "2943                1.0                0.0                0.0   \n",
       "2954                1.0                0.0                0.0   \n",
       "2965                1.0                0.0                0.0   \n",
       "2976                1.0                0.0                0.0   \n",
       "\n",
       "      ankleOrientation4  subject_id  \n",
       "2932                0.0           1  \n",
       "2943                0.0           1  \n",
       "2954                0.0           1  \n",
       "2965                0.0           1  \n",
       "2976                0.0           1  \n",
       "\n",
       "[5 rows x 55 columns]"
      ]
     },
     "execution_count": 7,
     "metadata": {},
     "output_type": "execute_result"
    }
   ],
   "source": [
    "label = LabelEncoder()\n",
    "features['activityID'] = label.fit_transform(features['activityID'])\n",
    "features.head()"
   ]
  },
  {
   "cell_type": "code",
   "execution_count": 8,
   "id": "df36afbf",
   "metadata": {},
   "outputs": [
    {
     "data": {
      "text/plain": [
       "3    20998\n",
       "0    17575\n",
       "2    17256\n",
       "1    16881\n",
       "5    16857\n",
       "6    10699\n",
       "7     9585\n",
       "4     8665\n",
       "Name: activityID, dtype: int64"
      ]
     },
     "execution_count": 8,
     "metadata": {},
     "output_type": "execute_result"
    }
   ],
   "source": [
    "features['activityID'].value_counts()"
   ]
  },
  {
   "cell_type": "code",
   "execution_count": 11,
   "id": "d8bae1ad",
   "metadata": {},
   "outputs": [
    {
     "data": {
      "text/plain": [
       "<AxesSubplot:xlabel='activityID', ylabel='count'>"
      ]
     },
     "execution_count": 11,
     "metadata": {},
     "output_type": "execute_result"
    },
    {
     "data": {
      "image/png": "[encoded data removed]",
      "text/plain": [
       "<Figure size 640x480 with 1 Axes>"
      ]
     },
     "metadata": {},
     "output_type": "display_data"
    }
   ],
   "source": [
    "sns.countplot(x = \"activityID\", data = features, order = features.activityID.value_counts().index)"
   ]
  },
  {
   "cell_type": "code",
   "execution_count": 12,
   "id": "ac00068d",
   "metadata": {},
   "outputs": [],
   "source": [
    "indexes = features[features['activityID'] == 0].index\n",
    "features.drop(indexes , inplace=True)"
   ]
  },
  {
   "cell_type": "code",
   "execution_count": 13,
   "id": "0092069c",
   "metadata": {},
   "outputs": [
    {
     "data": {
      "text/plain": [
       "3    20998\n",
       "2    17256\n",
       "1    16881\n",
       "5    16857\n",
       "6    10699\n",
       "7     9585\n",
       "4     8665\n",
       "Name: activityID, dtype: int64"
      ]
     },
     "execution_count": 13,
     "metadata": {},
     "output_type": "execute_result"
    }
   ],
   "source": [
    "features['activityID'].value_counts()"
   ]
  },
  {
   "cell_type": "code",
   "execution_count": 14,
   "id": "362eb1cf",
   "metadata": {},
   "outputs": [],
   "source": [
    "from sklearn.preprocessing import StandardScaler\n",
    "\n",
    "X = features[['handAcc16_1' , 'handAcc16_2' , 'handAcc16_3' ,\n",
    "    'handAcc6_1' , 'handAcc6_2' , 'handAcc6_3' ,\n",
    "    'handGyro1' , 'handGyro2',   'handGyro3' ,      \n",
    "    'handMagne1',  'handMagne2' , 'handMagne3',  \n",
    "    'chestAcc16_1', 'chestAcc16_2',  'chestAcc16_3',   \n",
    "    'chestAcc6_1',  'chestAcc6_2',  'chestAcc6_3',\n",
    "    'chestGyro1',   'chestGyro2',   'chestGyro3',    \n",
    "    'chestMagne1', 'chestMagne2' , 'chestMagne3', \n",
    "    'ankleAcc16_1',   'ankleAcc16_2',  'ankleAcc16_3',\n",
    "    'ankleAcc6_1',  'ankleAcc6_2',  'ankleAcc6_3',   \n",
    "    'ankleGyro1' ,   'ankleGyro2',   'ankleGyro3',    \n",
    "    'ankleMagne1' , 'ankleMagne2' ,'ankleMagne3']]\n",
    "y= features['activityID']\n",
    "\n",
    "scaler = StandardScaler()\n",
    "X = scaler.fit_transform(X)\n",
    "\n",
    "scaled_X = pd.DataFrame(data = X, columns = ['handAcc16_1' , 'handAcc16_2' , 'handAcc16_3' ,\n",
    "    'handAcc6_1' , 'handAcc6_2' , 'handAcc6_3' ,\n",
    "    'handGyro1' , 'handGyro2',   'handGyro3' ,      \n",
    "    'handMagne1',  'handMagne2' , 'handMagne3',  \n",
    "    'chestAcc16_1', 'chestAcc16_2',  'chestAcc16_3',   \n",
    "    'chestAcc6_1',  'chestAcc6_2',  'chestAcc6_3',\n",
    "    'chestGyro1',   'chestGyro2',   'chestGyro3',    \n",
    "    'chestMagne1', 'chestMagne2' , 'chestMagne3', \n",
    "    'ankleAcc16_1',   'ankleAcc16_2',  'ankleAcc16_3',\n",
    "    'ankleAcc6_1',  'ankleAcc6_2',  'ankleAcc6_3',   \n",
    "    'ankleGyro1' ,   'ankleGyro2',   'ankleGyro3',    \n",
    "    'ankleMagne1' , 'ankleMagne2' ,'ankleMagne3'])\n",
    "scaled_X['label'] = y.values"
   ]
  },
  {
   "cell_type": "code",
   "execution_count": 15,
   "id": "da972fde",
   "metadata": {},
   "outputs": [],
   "source": [
    "from sklearn.model_selection import train_test_split\n",
    "\n",
    "X_train, X_test, y_train, y_test = train_test_split(scaled_X, \n",
    "                                                    scaled_X[\"label\"],\n",
    "                                                    test_size = 0.95, \n",
    "                                                    shuffle = True, \n",
    "                                                    random_state = 21)"
   ]
  },
  {
   "cell_type": "code",
   "execution_count": 16,
   "id": "42ac2409",
   "metadata": {},
   "outputs": [],
   "source": [
    "#TIME_STEPS : The length of the time segment.\n",
    "#STEP : Determines the amount of overlap between two consecutive time segments.\n",
    "    \n",
    "    \n",
    "TIME_STEPS = 64\n",
    "STEP = 64"
   ]
  },
  {
   "cell_type": "code",
   "execution_count": 17,
   "id": "df04e834",
   "metadata": {},
   "outputs": [
    {
     "name": "stdout",
     "output_type": "stream",
     "text": [
      "(78, 64, 36) (78, 1)\n"
     ]
    },
    {
     "name": "stderr",
     "output_type": "stream",
     "text": [
      "/var/folders/cr/nhx4f9sn2j1802mttlxq0q800000gn/T/ipykernel_37161/3035661276.py:9: FutureWarning: Unlike other reduction functions (e.g. `skew`, `kurtosis`), the default behavior of `mode` typically preserves the axis it acts along. In SciPy 1.11.0, this behavior will change: the default value of `keepdims` will become False, the `axis` over which the statistic is taken will be eliminated, and the value None will no longer be accepted. Set `keepdims` to True or False to avoid this warning.\n",
      "  ys.append(stats.mode(labels)[0][0])\n",
      "/var/folders/cr/nhx4f9sn2j1802mttlxq0q800000gn/T/ipykernel_37161/3035661276.py:9: FutureWarning: Unlike other reduction functions (e.g. `skew`, `kurtosis`), the default behavior of `mode` typically preserves the axis it acts along. In SciPy 1.11.0, this behavior will change: the default value of `keepdims` will become False, the `axis` over which the statistic is taken will be eliminated, and the value None will no longer be accepted. Set `keepdims` to True or False to avoid this warning.\n",
      "  ys.append(stats.mode(labels)[0][0])\n"
     ]
    }
   ],
   "source": [
    "from scipy import stats\n",
    "\n",
    "def create_dataset(X, y, time_steps=1, step=1):\n",
    "    Xs, ys = [], []\n",
    "    for i in range(0, len(X) - time_steps, step):\n",
    "        v = X.iloc[i:(i + time_steps)].values\n",
    "        labels = y.iloc[i: i + time_steps]\n",
    "        Xs.append(v)        \n",
    "        ys.append(stats.mode(labels)[0][0])\n",
    "    return np.array(Xs), np.array(ys).reshape(-1, 1)\n",
    "\n",
    "\n",
    "X_train, y_train = create_dataset(X_train[['handAcc16_1' , 'handAcc16_2' , 'handAcc16_3' ,\n",
    "    'handAcc6_1' , 'handAcc6_2' , 'handAcc6_3' ,\n",
    "    'handGyro1' , 'handGyro2',   'handGyro3' ,      \n",
    "    'handMagne1',  'handMagne2' , 'handMagne3',  \n",
    "    'chestAcc16_1', 'chestAcc16_2',  'chestAcc16_3',   \n",
    "    'chestAcc6_1',  'chestAcc6_2',  'chestAcc6_3',\n",
    "    'chestGyro1',   'chestGyro2',   'chestGyro3',    \n",
    "    'chestMagne1', 'chestMagne2' , 'chestMagne3', \n",
    "    'ankleAcc16_1',   'ankleAcc16_2',  'ankleAcc16_3',\n",
    "    'ankleAcc6_1',  'ankleAcc6_2',  'ankleAcc6_3',   \n",
    "    'ankleGyro1' ,   'ankleGyro2',   'ankleGyro3',    \n",
    "    'ankleMagne1' , 'ankleMagne2' ,'ankleMagne3']], X_train.label, TIME_STEPS,\n",
    "                                  STEP)\n",
    "X_test, y_test = create_dataset(X_test[['handAcc16_1' , 'handAcc16_2' , 'handAcc16_3' ,\n",
    "    'handAcc6_1' , 'handAcc6_2' , 'handAcc6_3' ,\n",
    "    'handGyro1' , 'handGyro2',   'handGyro3' ,      \n",
    "    'handMagne1',  'handMagne2' , 'handMagne3',  \n",
    "    'chestAcc16_1', 'chestAcc16_2',  'chestAcc16_3',   \n",
    "    'chestAcc6_1',  'chestAcc6_2',  'chestAcc6_3',\n",
    "    'chestGyro1',   'chestGyro2',   'chestGyro3',    \n",
    "    'chestMagne1', 'chestMagne2' , 'chestMagne3', \n",
    "    'ankleAcc16_1',   'ankleAcc16_2',  'ankleAcc16_3',\n",
    "    'ankleAcc6_1',  'ankleAcc6_2',  'ankleAcc6_3',   \n",
    "    'ankleGyro1' ,   'ankleGyro2',   'ankleGyro3',    \n",
    "    'ankleMagne1' , 'ankleMagne2' ,'ankleMagne3']], X_test.label, TIME_STEPS, STEP)\n",
    "\n",
    "print(X_train.shape, y_train.shape)"
   ]
  },
  {
   "cell_type": "code",
   "execution_count": 18,
   "id": "be080f72",
   "metadata": {},
   "outputs": [],
   "source": [
    "from sklearn.preprocessing import OneHotEncoder\n",
    "\n",
    "enc = OneHotEncoder(handle_unknown = \"ignore\", sparse = False)\n",
    "enc = enc.fit(y_train)\n",
    "\n",
    "y_train = enc.transform(y_train)\n",
    "y_test = enc.transform(y_test)"
   ]
  },
  {
   "cell_type": "code",
   "execution_count": 19,
   "id": "565a81f0",
   "metadata": {},
   "outputs": [
    {
     "name": "stdout",
     "output_type": "stream",
     "text": [
      "X_train.shape:  (78, 64, 36)\n",
      "X_test.shape  (1498, 64, 36)\n",
      "y_train.shape  (78, 4)\n",
      "y_test.shape  (1498, 4)\n"
     ]
    }
   ],
   "source": [
    "print(\"X_train.shape: \", X_train.shape)\n",
    "print(\"X_test.shape \", X_test.shape)\n",
    "print(\"y_train.shape \", y_train.shape)\n",
    "print(\"y_test.shape \", y_test.shape)"
   ]
  },
  {
   "cell_type": "code",
   "execution_count": 24,
   "id": "b8f30296",
   "metadata": {},
   "outputs": [],
   "source": [
    "import tensorflow as tf\n",
    "from tensorflow import keras\n",
    "from tensorflow.keras import layers\n",
    "\n",
    "# cnn model vary kernel size\n",
    "from numpy import mean\n",
    "from numpy import std\n",
    "from numpy import dstack\n",
    "from pandas import read_csv\n",
    "from matplotlib import pyplot\n",
    "from keras.models import Sequential\n",
    "from keras.layers import Dense\n",
    "from keras.layers import Flatten\n",
    "from tensorflow.keras.layers import Dropout\n",
    "from tensorflow.keras.layers import Conv1D\n",
    "from tensorflow.keras.layers import MaxPooling1D\n",
    "from tensorflow.keras.utils import to_categorical\n",
    "\n",
    "import tensorflow.keras\n",
    "from tensorflow.keras.models import Sequential\n",
    "from tensorflow.keras.layers import Dense, Dropout, Flatten, Reshape, LSTM, Conv1D, MaxPooling1D\n",
    "from keras.layers import TimeDistributed, Conv1D, MaxPooling1D\n",
    "from keras.utils import to_categorical "
   ]
  },
  {
   "cell_type": "code",
   "execution_count": 25,
   "id": "98a1910d",
   "metadata": {},
   "outputs": [],
   "source": [
    "#Epoch 500\n",
    "\n",
    "verbose,epochs,batch_size=1,10,32 \n",
    "\n",
    "n_timesteps,n_features,n_outputs=X_train.shape[1],X_train.shape[2],y_train.shape[1]"
   ]
  },
  {
   "cell_type": "code",
   "execution_count": 26,
   "id": "0443691f",
   "metadata": {},
   "outputs": [],
   "source": [
    "import numpy as np\n",
    "import tensorflow as tf\n",
    "from tensorflow import keras\n",
    "from tensorflow.keras.layers import Bidirectional, LSTM, Dropout, Dense\n",
    "import pandas as pd\n",
    "import seaborn as sns\n",
    "from pylab import rcParams\n",
    "import matplotlib.pyplot as plt\n",
    "from matplotlib import rc\n",
    "from pandas.plotting import register_matplotlib_converters"
   ]
  },
  {
   "cell_type": "code",
   "execution_count": 27,
   "id": "b4f152f8",
   "metadata": {},
   "outputs": [
    {
     "data": {
      "text/plain": [
       "(64, 36, 4)"
      ]
     },
     "execution_count": 27,
     "metadata": {},
     "output_type": "execute_result"
    }
   ],
   "source": [
    "n_timesteps, n_features, n_outputs"
   ]
  },
  {
   "cell_type": "code",
   "execution_count": 28,
   "id": "f0ededd6",
   "metadata": {},
   "outputs": [],
   "source": [
    "# Training and evaluating the model\n",
    "\n",
    "model = keras.Sequential()\n",
    "model.add(Bidirectional(LSTM(units = 128, input_shape = [X_train.shape[1], X_train.shape[2]])))\n",
    "model.add(Dropout(rate = 0.5))\n",
    "model.add(Dense(units = 128, activation = \"relu\"))\n",
    "model.add(Dense(y_train.shape[1], activation = \"softmax\"))\n",
    "model.compile(loss = \"categorical_crossentropy\", optimizer = \"adam\", metrics = [\"acc\"])\n"
   ]
  },
  {
   "cell_type": "code",
   "execution_count": 29,
   "id": "63e8596f",
   "metadata": {},
   "outputs": [
    {
     "name": "stderr",
     "output_type": "stream",
     "text": [
      "WARNING:absl:At this time, the v2.11+ optimizer `tf.keras.optimizers.Adam` runs slowly on M1/M2 Macs, please use the legacy Keras optimizer instead, located at `tf.keras.optimizers.legacy.Adam`.\n",
      "WARNING:absl:There is a known slowdown when using v2.11+ Keras optimizers on M1/M2 Macs. Falling back to the legacy Keras optimizer, i.e., `tf.keras.optimizers.legacy.Adam`.\n"
     ]
    }
   ],
   "source": [
    "model.compile(optimizer=Adam(learning_rate = 0.001), loss = 'categorical_crossentropy', metrics = ['accuracy'])"
   ]
  },
  {
   "cell_type": "code",
   "execution_count": 50,
   "id": "f34e135c",
   "metadata": {},
   "outputs": [
    {
     "name": "stdout",
     "output_type": "stream",
     "text": [
      "Epoch 1/10\n",
      "3/3 [==============================] - 0s 36ms/step - loss: 0.1259 - accuracy: 0.9857 - val_loss: 2.1754 - val_accuracy: 0.2500\n",
      "Epoch 2/10\n",
      "3/3 [==============================] - 0s 31ms/step - loss: 0.0792 - accuracy: 1.0000 - val_loss: 2.3344 - val_accuracy: 0.2500\n",
      "Epoch 3/10\n",
      "3/3 [==============================] - 0s 31ms/step - loss: 0.0747 - accuracy: 0.9857 - val_loss: 2.4403 - val_accuracy: 0.2500\n",
      "Epoch 4/10\n",
      "3/3 [==============================] - 0s 32ms/step - loss: 0.0662 - accuracy: 1.0000 - val_loss: 2.8811 - val_accuracy: 0.2500\n",
      "Epoch 5/10\n",
      "3/3 [==============================] - 0s 31ms/step - loss: 0.0460 - accuracy: 1.0000 - val_loss: 2.9697 - val_accuracy: 0.2500\n",
      "Epoch 6/10\n",
      "3/3 [==============================] - 0s 31ms/step - loss: 0.0445 - accuracy: 0.9857 - val_loss: 2.5945 - val_accuracy: 0.3750\n",
      "Epoch 7/10\n",
      "3/3 [==============================] - 0s 31ms/step - loss: 0.0403 - accuracy: 0.9857 - val_loss: 3.0425 - val_accuracy: 0.2500\n",
      "Epoch 8/10\n",
      "3/3 [==============================] - 0s 32ms/step - loss: 0.0216 - accuracy: 1.0000 - val_loss: 3.3087 - val_accuracy: 0.2500\n",
      "Epoch 9/10\n",
      "3/3 [==============================] - 0s 32ms/step - loss: 0.0228 - accuracy: 1.0000 - val_loss: 3.2975 - val_accuracy: 0.1250\n",
      "Epoch 10/10\n",
      "3/3 [==============================] - 0s 33ms/step - loss: 0.0208 - accuracy: 1.0000 - val_loss: 3.2225 - val_accuracy: 0.2500\n",
      "Model: \"sequential\"\n",
      "_________________________________________________________________\n",
      " Layer (type)                Output Shape              Param #   \n",
      "=================================================================\n",
      " bidirectional (Bidirection  (None, 256)               168960    \n",
      " al)                                                             \n",
      "                                                                 \n",
      " dropout (Dropout)           (None, 256)               0         \n",
      "                                                                 \n",
      " dense (Dense)               (None, 128)               32896     \n",
      "                                                                 \n",
      " dense_1 (Dense)             (None, 4)                 516       \n",
      "                                                                 \n",
      "=================================================================\n",
      "Total params: 202372 (790.52 KB)\n",
      "Trainable params: 202372 (790.52 KB)\n",
      "Non-trainable params: 0 (0.00 Byte)\n",
      "_________________________________________________________________\n",
      "None\n"
     ]
    }
   ],
   "source": [
    "history = model.fit(X_train, y_train, epochs = 10, batch_size = 32, validation_split = 0.1, shuffle = True)\n",
    "print(model.summary())"
   ]
  },
  {
   "cell_type": "code",
   "execution_count": 57,
   "id": "28efe523",
   "metadata": {},
   "outputs": [
    {
     "name": "stderr",
     "output_type": "stream",
     "text": [
      "/opt/anaconda3/lib/python3.9/site-packages/keras/src/engine/training.py:3000: UserWarning: You are saving your model as an HDF5 file via `model.save()`. This file format is considered legacy. We recommend using instead the native Keras format, e.g. `model.save('my_model.keras')`.\n",
      "  saving_api.save_model(\n"
     ]
    }
   ],
   "source": [
    "model.save('/Users/minjeong/Downloads/model/Model.h5')"
   ]
  },
  {
   "cell_type": "code",
   "execution_count": 58,
   "id": "820a2ebe",
   "metadata": {},
   "outputs": [
    {
     "data": {
      "image/png": "[encoded data removed]",
      "text/plain": [
       "<Figure size 640x480 with 1 Axes>"
      ]
     },
     "metadata": {},
     "output_type": "display_data"
    }
   ],
   "source": [
    "import matplotlib.pyplot as plt\n",
    "import seaborn as sns\n",
    "\n",
    "loss = history.history['loss']\n",
    "val_loss = history.history['val_loss']\n",
    "epochs = range(1, len(loss) + 1)\n",
    "plt.plot(epochs, loss, 'y', label='Training loss')\n",
    "plt.plot(epochs, val_loss, 'r', label='Validation loss')\n",
    "plt.title('Training and validation loss')\n",
    "plt.xlabel('Epochs')\n",
    "plt.ylabel('Loss')\n",
    "plt.legend()\n",
    "plt.show()"
   ]
  },
  {
   "cell_type": "code",
   "execution_count": 59,
   "id": "7c16d819",
   "metadata": {
    "scrolled": true
   },
   "outputs": [],
   "source": [
    "from mlxtend.plotting import plot_confusion_matrix\n",
    "from sklearn.metrics import confusion_matrix"
   ]
  },
  {
   "cell_type": "code",
   "execution_count": 60,
   "id": "6cb2b717",
   "metadata": {},
   "outputs": [
    {
     "name": "stdout",
     "output_type": "stream",
     "text": [
      "47/47 [==============================] - 0s 9ms/step - loss: 2.3213 - accuracy: 0.4680\n",
      "model saved at  /Users/minjeong/Downloads/model/Model.h5\n",
      "Accuracy >46.795729\n",
      "Base Loss >2.32\n"
     ]
    },
    {
     "name": "stderr",
     "output_type": "stream",
     "text": [
      "/var/folders/cr/nhx4f9sn2j1802mttlxq0q800000gn/T/ipykernel_37161/454776930.py:4: UserWarning: You are saving your model as an HDF5 file via `model.save()`. This file format is considered legacy. We recommend using instead the native Keras format, e.g. `model.save('my_model.keras')`.\n",
      "  tf.keras.models.save_model(model, cnn_file, include_optimizer=False)\n"
     ]
    }
   ],
   "source": [
    "base_loss,base_accuracy=model.evaluate(X_test,y_test,batch_size=batch_size,verbose=1)\n",
    "\n",
    "cnn_file='/Users/minjeong/Downloads/model/Model.h5'\n",
    "tf.keras.models.save_model(model, cnn_file, include_optimizer=False)\n",
    "print('model saved at ', cnn_file)\n",
    "\n",
    "score=base_accuracy*100\n",
    "print('Accuracy >{:f}'.format(score))\n",
    "print('Base Loss >{:.2f}'.format(base_loss))"
   ]
  },
  {
   "cell_type": "markdown",
   "id": "41c3d70f",
   "metadata": {},
   "source": [
    "# Fine-Tuning"
   ]
  },
  {
   "cell_type": "code",
   "execution_count": 53,
   "id": "e4b4d005",
   "metadata": {},
   "outputs": [
    {
     "name": "stdout",
     "output_type": "stream",
     "text": [
      "WARNING:tensorflow:No training configuration found in the save file, so the model was *not* compiled. Compile it manually.\n"
     ]
    },
    {
     "name": "stderr",
     "output_type": "stream",
     "text": [
      "WARNING:tensorflow:No training configuration found in the save file, so the model was *not* compiled. Compile it manually.\n"
     ]
    }
   ],
   "source": [
    "# Base 모델을 로드\n",
    "\n",
    "base_model = keras.models.load_model(cnn_file)"
   ]
  },
  {
   "cell_type": "code",
   "execution_count": 61,
   "id": "838eff59",
   "metadata": {},
   "outputs": [
    {
     "name": "stderr",
     "output_type": "stream",
     "text": [
      "WARNING:absl:At this time, the v2.11+ optimizer `tf.keras.optimizers.SGD` runs slowly on M1/M2 Macs, please use the legacy Keras optimizer instead, located at `tf.keras.optimizers.legacy.SGD`.\n",
      "WARNING:absl:`lr` is deprecated in Keras optimizer, please use `learning_rate` or use the legacy optimizer, e.g.,tf.keras.optimizers.legacy.SGD.\n",
      "WARNING:absl:There is a known slowdown when using v2.11+ Keras optimizers on M1/M2 Macs. Falling back to the legacy Keras optimizer, i.e., `tf.keras.optimizers.legacy.SGD`.\n"
     ]
    },
    {
     "name": "stdout",
     "output_type": "stream",
     "text": [
      "Number of layers in the base model:  4\n"
     ]
    }
   ],
   "source": [
    "print(\"Number of layers in the base model: \", len(base_model.layers))\n",
    "\n",
    "# Fine-tune from this layer onwards\n",
    "fine_tune_at = 3\n",
    "\n",
    "# Freeze all the layers before the `fine_tune_at` layer\n",
    "for layer in base_model.layers[:fine_tune_at]:\n",
    "  layer.trainable =  False\n",
    "\n",
    "new_model = keras.models.Sequential(base_model.layers[:-1])\n",
    "new_model.add(keras.layers.Dense(4, activation='sigmoid'))\n",
    "\n",
    "new_model.compile(loss=\"categorical_crossentropy\",\n",
    "                     optimizer=keras.optimizers.SGD(lr=1e-3),\n",
    "                     metrics=[\"accuracy\"])"
   ]
  },
  {
   "cell_type": "code",
   "execution_count": 62,
   "id": "8cfbfe7a",
   "metadata": {},
   "outputs": [
    {
     "data": {
      "text/html": [
       "<div>\n",
       "<style scoped>\n",
       "    .dataframe tbody tr th:only-of-type {\n",
       "        vertical-align: middle;\n",
       "    }\n",
       "\n",
       "    .dataframe tbody tr th {\n",
       "        vertical-align: top;\n",
       "    }\n",
       "\n",
       "    .dataframe thead th {\n",
       "        text-align: right;\n",
       "    }\n",
       "</style>\n",
       "<table border=\"1\" class=\"dataframe\">\n",
       "  <thead>\n",
       "    <tr style=\"text-align: right;\">\n",
       "      <th></th>\n",
       "      <th>Layer Type</th>\n",
       "      <th>Layer Name</th>\n",
       "      <th>Layer Trainable</th>\n",
       "    </tr>\n",
       "  </thead>\n",
       "  <tbody>\n",
       "    <tr>\n",
       "      <th>0</th>\n",
       "      <td>&lt;keras.src.layers.rnn.bidirectional.Bidirectio...</td>\n",
       "      <td>bidirectional</td>\n",
       "      <td>False</td>\n",
       "    </tr>\n",
       "    <tr>\n",
       "      <th>1</th>\n",
       "      <td>&lt;keras.src.layers.regularization.dropout.Dropo...</td>\n",
       "      <td>dropout</td>\n",
       "      <td>False</td>\n",
       "    </tr>\n",
       "    <tr>\n",
       "      <th>2</th>\n",
       "      <td>&lt;keras.src.layers.core.dense.Dense object at 0...</td>\n",
       "      <td>dense</td>\n",
       "      <td>False</td>\n",
       "    </tr>\n",
       "    <tr>\n",
       "      <th>3</th>\n",
       "      <td>&lt;keras.src.layers.core.dense.Dense object at 0...</td>\n",
       "      <td>dense_1</td>\n",
       "      <td>True</td>\n",
       "    </tr>\n",
       "  </tbody>\n",
       "</table>\n",
       "</div>"
      ],
      "text/plain": [
       "                                          Layer Type     Layer Name  \\\n",
       "0  <keras.src.layers.rnn.bidirectional.Bidirectio...  bidirectional   \n",
       "1  <keras.src.layers.regularization.dropout.Dropo...        dropout   \n",
       "2  <keras.src.layers.core.dense.Dense object at 0...          dense   \n",
       "3  <keras.src.layers.core.dense.Dense object at 0...        dense_1   \n",
       "\n",
       "   Layer Trainable  \n",
       "0            False  \n",
       "1            False  \n",
       "2            False  \n",
       "3             True  "
      ]
     },
     "execution_count": 62,
     "metadata": {},
     "output_type": "execute_result"
    }
   ],
   "source": [
    "import pandas as pd\n",
    "display_layers = [(layer, layer.name, layer.trainable) for layer in base_model.layers]\n",
    "pd.DataFrame(display_layers, columns=['Layer Type', 'Layer Name', 'Layer Trainable'])"
   ]
  },
  {
   "cell_type": "code",
   "execution_count": 63,
   "id": "69a86367",
   "metadata": {},
   "outputs": [
    {
     "name": "stdout",
     "output_type": "stream",
     "text": [
      "Epoch 1/10\n",
      "3/3 [==============================] - 1s 125ms/step - loss: 1.8571 - accuracy: 0.1143 - val_loss: 1.4073 - val_accuracy: 0.2500\n",
      "Epoch 2/10\n",
      "3/3 [==============================] - 0s 16ms/step - loss: 1.4469 - accuracy: 0.3143 - val_loss: 1.3799 - val_accuracy: 0.2500\n",
      "Epoch 3/10\n",
      "3/3 [==============================] - 0s 16ms/step - loss: 1.2005 - accuracy: 0.5143 - val_loss: 1.3872 - val_accuracy: 0.2500\n",
      "Epoch 4/10\n",
      "3/3 [==============================] - 0s 17ms/step - loss: 1.0564 - accuracy: 0.6286 - val_loss: 1.4075 - val_accuracy: 0.2500\n",
      "Epoch 5/10\n",
      "3/3 [==============================] - 0s 17ms/step - loss: 0.9331 - accuracy: 0.6857 - val_loss: 1.4304 - val_accuracy: 0.2500\n",
      "Epoch 6/10\n",
      "3/3 [==============================] - 0s 17ms/step - loss: 0.8963 - accuracy: 0.6429 - val_loss: 1.4527 - val_accuracy: 0.2500\n",
      "Epoch 7/10\n",
      "3/3 [==============================] - 0s 17ms/step - loss: 0.8754 - accuracy: 0.6571 - val_loss: 1.4713 - val_accuracy: 0.2500\n",
      "Epoch 8/10\n",
      "3/3 [==============================] - 0s 17ms/step - loss: 0.7795 - accuracy: 0.6714 - val_loss: 1.4855 - val_accuracy: 0.2500\n",
      "Epoch 9/10\n",
      "3/3 [==============================] - 0s 17ms/step - loss: 0.7296 - accuracy: 0.7714 - val_loss: 1.5034 - val_accuracy: 0.2500\n",
      "Epoch 10/10\n",
      "3/3 [==============================] - 0s 17ms/step - loss: 0.6835 - accuracy: 0.7571 - val_loss: 1.5156 - val_accuracy: 0.2500\n",
      "Model: \"sequential_3\"\n",
      "_________________________________________________________________\n",
      " Layer (type)                Output Shape              Param #   \n",
      "=================================================================\n",
      " bidirectional (Bidirection  (None, 256)               168960    \n",
      " al)                                                             \n",
      "                                                                 \n",
      " dropout (Dropout)           (None, 256)               0         \n",
      "                                                                 \n",
      " dense (Dense)               (None, 128)               32896     \n",
      "                                                                 \n",
      " dense_4 (Dense)             (None, 4)                 516       \n",
      "                                                                 \n",
      "=================================================================\n",
      "Total params: 202372 (790.52 KB)\n",
      "Trainable params: 516 (2.02 KB)\n",
      "Non-trainable params: 201856 (788.50 KB)\n",
      "_________________________________________________________________\n"
     ]
    }
   ],
   "source": [
    "history2 = new_model.fit(X_train, y_train, epochs=10, batch_size = 32, validation_split = 0.1, shuffle = True)\n",
    "new_model.summary()"
   ]
  },
  {
   "cell_type": "markdown",
   "id": "ab597ccb",
   "metadata": {},
   "source": [
    "# 미세조정"
   ]
  },
  {
   "cell_type": "code",
   "execution_count": 64,
   "id": "bd8fa423",
   "metadata": {},
   "outputs": [
    {
     "name": "stderr",
     "output_type": "stream",
     "text": [
      "WARNING:absl:At this time, the v2.11+ optimizer `tf.keras.optimizers.SGD` runs slowly on M1/M2 Macs, please use the legacy Keras optimizer instead, located at `tf.keras.optimizers.legacy.SGD`.\n",
      "WARNING:absl:`lr` is deprecated in Keras optimizer, please use `learning_rate` or use the legacy optimizer, e.g.,tf.keras.optimizers.legacy.SGD.\n",
      "WARNING:absl:There is a known slowdown when using v2.11+ Keras optimizers on M1/M2 Macs. Falling back to the legacy Keras optimizer, i.e., `tf.keras.optimizers.legacy.SGD`.\n"
     ]
    }
   ],
   "source": [
    "base_model.trainable = True\n",
    "new_model.compile(loss=\"categorical_crossentropy\",\n",
    "                     optimizer=keras.optimizers.SGD(lr=1e-3),\n",
    "                     metrics=[\"accuracy\"])"
   ]
  },
  {
   "cell_type": "code",
   "execution_count": 65,
   "id": "dc11b861",
   "metadata": {},
   "outputs": [
    {
     "data": {
      "text/html": [
       "<div>\n",
       "<style scoped>\n",
       "    .dataframe tbody tr th:only-of-type {\n",
       "        vertical-align: middle;\n",
       "    }\n",
       "\n",
       "    .dataframe tbody tr th {\n",
       "        vertical-align: top;\n",
       "    }\n",
       "\n",
       "    .dataframe thead th {\n",
       "        text-align: right;\n",
       "    }\n",
       "</style>\n",
       "<table border=\"1\" class=\"dataframe\">\n",
       "  <thead>\n",
       "    <tr style=\"text-align: right;\">\n",
       "      <th></th>\n",
       "      <th>Layer Type</th>\n",
       "      <th>Layer Name</th>\n",
       "      <th>Layer Trainable</th>\n",
       "    </tr>\n",
       "  </thead>\n",
       "  <tbody>\n",
       "    <tr>\n",
       "      <th>0</th>\n",
       "      <td>&lt;keras.src.layers.rnn.bidirectional.Bidirectio...</td>\n",
       "      <td>bidirectional</td>\n",
       "      <td>True</td>\n",
       "    </tr>\n",
       "    <tr>\n",
       "      <th>1</th>\n",
       "      <td>&lt;keras.src.layers.regularization.dropout.Dropo...</td>\n",
       "      <td>dropout</td>\n",
       "      <td>True</td>\n",
       "    </tr>\n",
       "    <tr>\n",
       "      <th>2</th>\n",
       "      <td>&lt;keras.src.layers.core.dense.Dense object at 0...</td>\n",
       "      <td>dense</td>\n",
       "      <td>True</td>\n",
       "    </tr>\n",
       "    <tr>\n",
       "      <th>3</th>\n",
       "      <td>&lt;keras.src.layers.core.dense.Dense object at 0...</td>\n",
       "      <td>dense_1</td>\n",
       "      <td>True</td>\n",
       "    </tr>\n",
       "  </tbody>\n",
       "</table>\n",
       "</div>"
      ],
      "text/plain": [
       "                                          Layer Type     Layer Name  \\\n",
       "0  <keras.src.layers.rnn.bidirectional.Bidirectio...  bidirectional   \n",
       "1  <keras.src.layers.regularization.dropout.Dropo...        dropout   \n",
       "2  <keras.src.layers.core.dense.Dense object at 0...          dense   \n",
       "3  <keras.src.layers.core.dense.Dense object at 0...        dense_1   \n",
       "\n",
       "   Layer Trainable  \n",
       "0             True  \n",
       "1             True  \n",
       "2             True  \n",
       "3             True  "
      ]
     },
     "execution_count": 65,
     "metadata": {},
     "output_type": "execute_result"
    }
   ],
   "source": [
    "import pandas as pd\n",
    "display_layers = [(layer, layer.name, layer.trainable) for layer in base_model.layers]\n",
    "pd.DataFrame(display_layers, columns=['Layer Type', 'Layer Name', 'Layer Trainable'])"
   ]
  },
  {
   "cell_type": "code",
   "execution_count": 67,
   "id": "21a67c7a",
   "metadata": {},
   "outputs": [
    {
     "name": "stdout",
     "output_type": "stream",
     "text": [
      "Epoch 1/10\n",
      "3/3 [==============================] - 1s 143ms/step - loss: 0.6802 - accuracy: 0.7429 - val_loss: 1.5236 - val_accuracy: 0.2500\n",
      "Epoch 2/10\n",
      "3/3 [==============================] - 0s 34ms/step - loss: 0.6035 - accuracy: 0.8286 - val_loss: 1.5660 - val_accuracy: 0.1250\n",
      "Epoch 3/10\n",
      "3/3 [==============================] - 0s 33ms/step - loss: 0.5791 - accuracy: 0.8714 - val_loss: 1.6042 - val_accuracy: 0.1250\n",
      "Epoch 4/10\n",
      "3/3 [==============================] - 0s 31ms/step - loss: 0.5070 - accuracy: 0.8286 - val_loss: 1.6247 - val_accuracy: 0.1250\n",
      "Epoch 5/10\n",
      "3/3 [==============================] - 0s 31ms/step - loss: 0.4796 - accuracy: 0.8714 - val_loss: 1.6844 - val_accuracy: 0.1250\n",
      "Epoch 6/10\n",
      "3/3 [==============================] - 0s 32ms/step - loss: 0.4189 - accuracy: 0.8571 - val_loss: 1.6803 - val_accuracy: 0.1250\n",
      "Epoch 7/10\n",
      "3/3 [==============================] - 0s 30ms/step - loss: 0.4436 - accuracy: 0.9143 - val_loss: 1.6872 - val_accuracy: 0.1250\n",
      "Epoch 8/10\n",
      "3/3 [==============================] - 0s 34ms/step - loss: 0.3923 - accuracy: 0.9000 - val_loss: 1.7360 - val_accuracy: 0.1250\n",
      "Epoch 9/10\n",
      "3/3 [==============================] - 0s 32ms/step - loss: 0.3986 - accuracy: 0.9286 - val_loss: 1.7077 - val_accuracy: 0.1250\n",
      "Epoch 10/10\n",
      "3/3 [==============================] - 0s 32ms/step - loss: 0.3385 - accuracy: 0.9857 - val_loss: 1.7725 - val_accuracy: 0.1250\n",
      "Model: \"sequential_3\"\n",
      "_________________________________________________________________\n",
      " Layer (type)                Output Shape              Param #   \n",
      "=================================================================\n",
      " bidirectional (Bidirection  (None, 256)               168960    \n",
      " al)                                                             \n",
      "                                                                 \n",
      " dropout (Dropout)           (None, 256)               0         \n",
      "                                                                 \n",
      " dense (Dense)               (None, 128)               32896     \n",
      "                                                                 \n",
      " dense_4 (Dense)             (None, 4)                 516       \n",
      "                                                                 \n",
      "=================================================================\n",
      "Total params: 202372 (790.52 KB)\n",
      "Trainable params: 202372 (790.52 KB)\n",
      "Non-trainable params: 0 (0.00 Byte)\n",
      "_________________________________________________________________\n"
     ]
    }
   ],
   "source": [
    "history2 = new_model.fit(X_train, y_train, epochs=10, batch_size = 32, validation_split = 0.1, shuffle = True)\n",
    "new_model.summary()"
   ]
  },
  {
   "cell_type": "code",
   "execution_count": 68,
   "id": "7e9c3917",
   "metadata": {},
   "outputs": [
    {
     "data": {
      "image/png": "[encoded data removed]",
      "text/plain": [
       "<Figure size 640x480 with 1 Axes>"
      ]
     },
     "metadata": {},
     "output_type": "display_data"
    }
   ],
   "source": [
    "import matplotlib.pyplot as plt\n",
    "import seaborn as sns\n",
    "\n",
    "loss = history2.history['loss']\n",
    "val_loss = history2.history['val_loss']\n",
    "epochs = range(1, len(loss) + 1)\n",
    "plt.plot(epochs, loss, 'y', label='Training loss')\n",
    "plt.plot(epochs, val_loss, 'r', label='Validation loss')\n",
    "plt.title('Training and validation loss')\n",
    "plt.xlabel('Epochs')\n",
    "plt.ylabel('Loss')\n",
    "plt.legend()\n",
    "plt.show()"
   ]
  },
  {
   "cell_type": "code",
   "execution_count": 69,
   "id": "739bd011",
   "metadata": {},
   "outputs": [
    {
     "data": {
      "image/png": "[encoded data removed]",
      "text/plain": [
       "<Figure size 640x480 with 1 Axes>"
      ]
     },
     "metadata": {},
     "output_type": "display_data"
    }
   ],
   "source": [
    "acc = history2.history['accuracy']\n",
    "val_acc = history2.history['val_accuracy']\n",
    "plt.plot(epochs, acc, 'y', label='Training acc')\n",
    "plt.plot(epochs, val_acc, 'r', label='Validation acc')\n",
    "plt.title('Training and validation accuracy')\n",
    "plt.xlabel('Epochs')\n",
    "plt.ylabel('Accuracy')\n",
    "plt.legend()\n",
    "plt.show()"
   ]
  },
  {
   "cell_type": "code",
   "execution_count": 70,
   "id": "bcca4d9c",
   "metadata": {},
   "outputs": [
    {
     "name": "stdout",
     "output_type": "stream",
     "text": [
      "47/47 [==============================] - 1s 10ms/step - loss: 1.3841 - accuracy: 0.4633\n",
      "47/47 [==============================] - 1s 11ms/step\n"
     ]
    }
   ],
   "source": [
    "new_model.evaluate(X_test, y_test)\n",
    "y_pred = new_model.predict(X_test)"
   ]
  }
 ],
 "metadata": {
  "kernelspec": {
   "display_name": "Python 3 (ipykernel)",
   "language": "python",
   "name": "python3"
  },
  "language_info": {
   "codemirror_mode": {
    "name": "ipython",
    "version": 3
   },
   "file_extension": ".py",
   "mimetype": "text/x-python",
   "name": "python",
   "nbconvert_exporter": "python",
   "pygments_lexer": "ipython3",
   "version": "3.9.13"
  }
 },
 "nbformat": 4,
 "nbformat_minor": 5
}
